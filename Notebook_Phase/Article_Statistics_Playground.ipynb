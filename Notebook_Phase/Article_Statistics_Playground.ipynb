{
 "cells": [
  {
   "cell_type": "markdown",
   "source": [],
   "metadata": {
    "collapsed": false
   },
   "id": "9428c525083ca7d4"
  },
  {
   "cell_type": "code",
   "execution_count": 7,
   "outputs": [],
   "source": [
    "import trafilatura"
   ],
   "metadata": {
    "collapsed": false,
    "ExecuteTime": {
     "end_time": "2024-01-23T19:29:46.484237Z",
     "start_time": "2024-01-23T19:29:46.175831Z"
    }
   },
   "id": "4ec66844c146f6cf"
  },
  {
   "cell_type": "code",
   "execution_count": 53,
   "outputs": [],
   "source": [
    "# Political leaders to set out stall and start campaigning ahead of election PAIR\n",
    "url_1 = \"https://www.standard.co.uk/news/politics/keir-starmer-rishi-sunak-prime-minister-labour-jeremy-hunt-b1129944.html\"\n",
    "\n",
    "url_2 = \"https://www.thetelegraphandargus.co.uk/news/national/24023150.political-leaders-set-stall-start-campaigning-ahead-election/\"\n",
    "\n",
    "\n",
    "# Late Queen ‘infuriated’ by Harry and Meghan’s claim over naming of daughter Lilibet PAIR\n",
    "url_3 = \"https://uk.news.yahoo.com/queen-infuriated-harry-meghan-claim-104006416.html?guccounter=1\"\n",
    "\n",
    "url_4 = \"https://www.independent.co.uk/life-style/royal-family/harry-meghan-lilibet-robert-hardman-king-biography-b2478702.html\""
   ],
   "metadata": {
    "collapsed": false,
    "ExecuteTime": {
     "end_time": "2024-01-23T22:47:33.576116Z",
     "start_time": "2024-01-23T22:47:33.573560Z"
    }
   },
   "id": "8b2bc861427c9144"
  },
  {
   "cell_type": "code",
   "execution_count": 54,
   "outputs": [
    {
     "name": "stdout",
     "output_type": "stream",
     "text": [
      "URL: https://www.standard.co.uk/news/politics/keir-starmer-rishi-sunak-prime-minister-labour-jeremy-hunt-b1129944.html\n",
      "Extracted Text: Political party leaders are set to lay out their stall to voters this week as they mark the start of what is likely to be a general election year.\n",
      "With 2024 expected to see voters go to the polls to elect a new Westminster government, the first week of January will see a flurry of activity.\n",
      "Rishi Sunak is expected to tell voters he is on a tax reducing mission during a visit on Thursday as he marks the introduction of the national insurance cut.\n",
      "The Prime Minister is set to meet people and take questions in the East Midlands during his first public appearance of the year, a No 10 source confirmed to the PA news agency.\n",
      "The source said the Conservative Party leader would be reiterating his belief in “low taxes” and will point to how he has fired the starting gun on cutting taxes, starting with Saturday’s reduction in national insurance.\n",
      "The Prime Minister and the Chancellor have been clear that over time they will cut taxes in a careful and sustainable way, based on our fiscal rules and the public financial position\n",
      "Prime Minister's official spokesman\n",
      "Chancellor Jeremy Hunt announced in the autumn statement in November that from January 6, the main rate of national insurance will be cut by two percentage points to 10%.\n",
      "The change to the national insurance rate on earnings between £12,570 and £50,270 will save someone earning £35,000 more than £450 a year, according to Treasury figures.\n",
      "Mr Sunak is planning to tell voters during events across the country this week that pre-election tax cuts will put “more money in people’s pockets” in 2024, according to The Times.\n",
      "Read More\n",
      "The newspaper reported that he will also tell them he “always wanted to get tax down” after delivering on his pledge to halve the rate of inflation by the end of 2023.\n",
      "There has been recent speculation that Mr Sunak could make more attention-grabbing pledges in the spring budget in March, with income tax cuts and the abolition of inheritance tax reportedly being considered ahead of a general election that must take place by January 2025.\n",
      "The Prime Minister’s official spokesman told reporters on Tuesday he was “not going to get into” speculating on when further tax cuts might potentially be announced.\n",
      "He said: “The Prime Minister and the Chancellor have been clear that over time they will cut taxes in a careful and sustainable way, based on our fiscal rules and the public financial position.”\n",
      "The Budget has been set for March 6, with some Westminster watchers speculating that it could pave the way for tax cuts, followed by a spring general election, possibly on May 2 to coincide with local elections.\n",
      "Labour is understood to be preparing for an early election, with party leader Sir Keir Starmer set to make his own intervention on Thursday in a speech in the South West.\n",
      "In a pitch directly to the electorate which is designed to stress the “power of the vote in an election year”, Sir Keir is expected to highlight that there is “opportunity for change” in 2024, but that the change “can only come about if people recognise that they have a voice in it”.\n",
      "A source close to the Opposition leader told PA: “It is about encouraging everybody to recognise the importance of this year, and that it is a real opportunity to turn a new page.”\n",
      "The set piece is designed to counter voter apathy, the source said, and act as a call to those who lent their vote to the Tories in 2019, urging them to put their faith in Labour following Sir Keir’s reforms since he became leader almost four years ago.\n",
      "Sir Ed Davey, the Liberal Democrat leader, is scheduled on Wednesday to kick-start the year’s campaigning for his party in target seats in the so-called “Blue Wall” — seats in the south of England that have traditionally been held by the Conservatives.\n",
      "Richard Tice, leader of Reform — formerly the Brexit Party — is also due to set out his party’s strategic vision for the next 12 months this week.\n",
      "==================================================\n",
      "URL: https://www.thetelegraphandargus.co.uk/news/national/24023150.political-leaders-set-stall-start-campaigning-ahead-election/\n",
      "Extracted Text: Political party leaders are set to lay out their stall to voters this week as they mark the start of what is likely to be a general election year.\n",
      "With 2024 expected to see voters go to the polls to elect a new Westminster government, the first week of January will see a flurry of activity.\n",
      "Rishi Sunak is expected to tell voters he is on a tax reducing mission during a visit on Thursday as he marks the introduction of the national insurance cut.\n",
      "The Prime Minister is set to meet people and take questions in the East Midlands during his first public appearance of the year, a No 10 source confirmed to the PA news agency.\n",
      "The source said the Conservative Party leader would be reiterating his belief in “low taxes” and will point to how he has fired the starting gun on cutting taxes, starting with Saturday’s reduction in national insurance.\n",
      "Chancellor Jeremy Hunt announced in the autumn statement in November that from January 6, the main rate of national insurance will be cut by two percentage points to 10%.\n",
      "The change to the national insurance rate on earnings between £12,570 and £50,270 will save someone earning £35,000 more than £450 a year, according to Treasury figures.\n",
      "Mr Sunak is planning to tell voters during events across the country this week that pre-election tax cuts will put “more money in people’s pockets” in 2024, according to The Times.\n",
      "The newspaper reported that he will also tell them he “always wanted to get tax down” after delivering on his pledge to halve the rate of inflation by the end of 2023.\n",
      "There has been recent speculation that Mr Sunak could make more attention-grabbing pledges in the spring budget in March, with income tax cuts and the abolition of inheritance tax reportedly being considered ahead of a general election that must take place by January 2025.\n",
      "The Prime Minister’s official spokesman told reporters on Tuesday he was “not going to get into” speculating on when further tax cuts might potentially be announced.\n",
      "He said: “The Prime Minister and the Chancellor have been clear that over time they will cut taxes in a careful and sustainable way, based on our fiscal rules and the public financial position.”\n",
      "The Budget has been set for March 6, with some Westminster watchers speculating that it could pave the way for tax cuts, followed by a spring general election, possibly on May 2 to coincide with local elections.\n",
      "Labour is understood to be preparing for an early election, with party leader Sir Keir Starmer set to make his own intervention on Thursday in a speech in the South West.\n",
      "In a pitch directly to the electorate which is designed to stress the “power of the vote in an election year”, Sir Keir is expected to highlight that there is “opportunity for change” in 2024, but that the change “can only come about if people recognise that they have a voice in it”.\n",
      "A source close to the Opposition leader told PA: “It is about encouraging everybody to recognise the importance of this year, and that it is a real opportunity to turn a new page.”\n",
      "The set piece is designed to counter voter apathy, the source said, and act as a call to those who lent their vote to the Tories in 2019, urging them to put their faith in Labour following Sir Keir’s reforms since he became leader almost four years ago.\n",
      "Sir Ed Davey, the Liberal Democrat leader, is scheduled on Wednesday to kick-start the year’s campaigning for his party in target seats in the so-called “Blue Wall” — seats in the south of England that have traditionally been held by the Conservatives.\n",
      "Richard Tice, leader of Reform — formerly the Brexit Party — is also due to set out his party’s strategic vision for the next 12 months this week.\n",
      "Comments: Our rules\n",
      "We want our comments to be a lively and valuable part of our community - a place where readers can debate and engage with the most important local issues. The ability to comment on our stories is a privilege, not a right, however, and that privilege may be withdrawn if it is abused or misused.\n",
      "Please report any comments that break our rules.Read the rules here\n",
      "==================================================\n",
      "URL: https://uk.news.yahoo.com/queen-infuriated-harry-meghan-claim-104006416.html?guccounter=1\n",
      "Extracted Text: Late Queen ‘infuriated’ by Harry and Meghan’s claim over naming of daughter Lilibet\n",
      "The late Queen Elizabeth was infuriated by Harry and Meghan Markle’s claim that she had approved them naming their daughter Lilibet, a new book has reported.\n",
      "In 2021, Harry and Meghan announced their daughter’s birth and said in a statement that she was named after the Queen, whose family nickname is Lilibet.\n",
      "However, a new autobiography by royal journalist Robert Hardman has said the late Queen was “as angry as I’d ever seen her” after the couple stated she had been “supportive” of the name.\n",
      "The book, which is currently being serialised in the Daily Mail, also claims the Sussexes were “rebuffed” by Buckingham Palace when they asked them to back up their claim publicly.\n",
      "The book reads: “One privately [member of palace staff] recalled that Elizabeth II had been ‘as angry as I’d ever seen her’ in 2021 after the Sussexes announced that she had given them her blessing to call their baby daughter ‘Lilibet’, the queen’s childhood nickname.\n",
      "“The couple subsequently fired off warnings of legal action against anyone who dared to suggest otherwise, as the BBC had done. However, when the Sussexes tried to co-opt the Palace into propping up their version of events, they were rebuffed.”\n",
      "Shortly after Lilibet’s name was announced, the BBC reported a palace source saying that the Queen “was not asked by the Duke and Duchess of Sussex about naming their daughter Lilibet”.\n",
      "As a result, the couple accused the broadcasters of libel but according to Mr Hardman the threat of legal action “evaporated and the libel action against the BBC never materialised”.\n",
      "At the time, Harry and Meghan’s spokesperson said: “The duke spoke with his family in advance of the announcement, in fact his grandmother was the first family member he called.\n",
      "“During that conversation, he shared their hope of naming their daughter Lilibet in her honour. Had she not been supportive, they would not have used the name.”\n",
      "Lilibet was the childhood nickname of the late Queen which was reportedly only used by her parents, Princess Margaret and Prince Philip, and a few close friends.\n",
      "Mr Hardman is best known for his work on the Royal family. He has worked for the Daily Mail since 2001 and wrote the book, Queen of Our Times.\n",
      "Other revelations in the book include a new insight into Harry’s relationship with his father, King Charles.\n",
      "It says that while the King was “extremely sad” about Harry’s estrangement, he now feels as though “he has done what he can and now he is King, there are many more things to think about”.\n",
      "However, the book also quotes a senior official as saying Charles will “always” leave the door open for his youngest son.\n",
      "The book also says that neither King Charles nor Prince William have read Harry’s memoir, Spare, but staff have informed them of “key points”.\n",
      "The Independent has contacted Buckingham Palace for a response to the book’s revelations.\n",
      "==================================================\n",
      "URL: https://www.independent.co.uk/life-style/royal-family/harry-meghan-lilibet-robert-hardman-king-biography-b2478702.html\n",
      "Extracted Text: Late Queen ‘infuriated’ by Harry and Meghan’s claim over naming of daughter Lilibet\n",
      "A new autobiography has claimed the late Queen was ‘as angry as I’d ever seen her’ following the couple’s claim\n",
      "The late Queen Elizabeth was infuriated by Harry and Meghan Markle’s claim that she had approved them naming their daughter Lilibet, a new book has reported.\n",
      "In 2021, Harry and Meghan announced their daughter’s birth and said in a statement that she was named after the Queen, whose family nickname is Lilibet.\n",
      "However, a new autobiography by royal journalist Robert Hardman has said the late Queen was “as angry as I’d ever seen her” after the couple stated she had been “supportive” of the name.\n",
      "The book, which is currently being serialised in the Daily Mail, also claims the Sussexes were “rebuffed” by Buckingham Palace when they asked them to back up their claim publicly.\n",
      "The book reads: “One privately [member of palace staff] recalled that Elizabeth II had been ‘as angry as I’d ever seen her’ in 2021 after the Sussexes announced that she had given them her blessing to call their baby daughter ‘Lilibet’, the queen’s childhood nickname.\n",
      "“The couple subsequently fired off warnings of legal action against anyone who dared to suggest otherwise, as the BBC had done. However, when the Sussexes tried to co-opt the Palace into propping up their version of events, they were rebuffed.”\n",
      "Shortly after Lilibet’s name was announced, the BBC reported a palace source saying that the Queen “was not asked by the Duke and Duchess of Sussex about naming their daughter Lilibet”.\n",
      "As a result, the couple accused the broadcasters of libel but according to Mr Hardman the threat of legal action “evaporated and the libel action against the BBC never materialised”.\n",
      "At the time, Harry and Meghan’s spokesperson said: “The duke spoke with his family in advance of the announcement, in fact his grandmother was the first family member he called.\n",
      "“During that conversation, he shared their hope of naming their daughter Lilibet in her honour. Had she not been supportive, they would not have used the name.”\n",
      "Lilibet was the childhood nickname of the late Queen which was reportedly only used by her parents, Princess Margaret and Prince Philip, and a few close friends.\n",
      "Mr Hardman is best known for his work on the Royal family. He has worked for the Daily Mail since 2001 and wrote the book, Queen of Our Times.\n",
      "Other revelations in the book include a new insight into Harry’s relationship with his father, King Charles.\n",
      "It says that while the King was “extremely sad” about Harry’s estrangement, he now feels as though “he has done what he can and now he is King, there are many more things to think about”.\n",
      "However, the book also quotes a senior official as saying Charles will “always” leave the door open for his youngest son.\n",
      "The book also says that neither King Charles nor Prince William have read Harry’s memoir, Spare, but staff have informed them of “key points”.\n",
      "The Independent has contacted Buckingham Palace for a response to the book’s revelations.\n",
      "Join our commenting forum\n",
      "Join thought-provoking conversations, follow other Independent readers and see their replies\n",
      "==================================================\n"
     ]
    }
   ],
   "source": [
    "urls = [url_1, url_2, url_3, url_4]\n",
    "\n",
    "extracted_texts = {}\n",
    "\n",
    "# Loop through each URL\n",
    "for url in urls:\n",
    "    downloaded = trafilatura.fetch_url(url)\n",
    "    extracted_text = trafilatura.extract(\n",
    "        downloaded,\n",
    "        favour_recall=True,\n",
    "        include_comments=False,\n",
    "        include_images=False,\n",
    "        include_tables=False\n",
    "    )\n",
    "\n",
    "    extracted_texts[url] = extracted_text\n",
    "\n",
    "for url, text in extracted_texts.items():\n",
    "    print(f\"URL: {url}\\nExtracted Text: {text}\\n{'='*50}\")"
   ],
   "metadata": {
    "collapsed": false,
    "ExecuteTime": {
     "end_time": "2024-01-23T22:47:37.211557Z",
     "start_time": "2024-01-23T22:47:35.439811Z"
    }
   },
   "id": "4f2827268802b752"
  },
  {
   "cell_type": "code",
   "execution_count": 10,
   "outputs": [],
   "source": [
    "#!pip install ppdeep\n",
    "\n",
    "# Fuzzy hash for similarity > 80 means highly similar or near-duplicates \n",
    "# There is variance in trafilatura extraction due to dense web page content so exact match seems \n",
    "# unlikely.\n",
    "\n",
    "import ppdeep"
   ],
   "metadata": {
    "collapsed": false,
    "ExecuteTime": {
     "end_time": "2024-01-23T19:29:48.218134Z",
     "start_time": "2024-01-23T19:29:48.212460Z"
    }
   },
   "id": "1be6bc4364f4ad82"
  },
  {
   "cell_type": "code",
   "execution_count": 61,
   "outputs": [],
   "source": [
    "hash_values = {}\n",
    "\n",
    "for url, text in extracted_texts.items():\n",
    "    hash_value = ppdeep.hash(text)\n",
    "\n",
    "    hash_values[url] = hash_value"
   ],
   "metadata": {
    "collapsed": false,
    "ExecuteTime": {
     "end_time": "2024-01-23T22:51:41.286219Z",
     "start_time": "2024-01-23T22:51:41.282587Z"
    }
   },
   "id": "6ddead694a318285"
  },
  {
   "cell_type": "code",
   "execution_count": 70,
   "outputs": [
    {
     "name": "stdout",
     "output_type": "stream",
     "text": [
      "Comparison Result for Articles 1 and 2: 88\n",
      "Comparison Result for Articles 1 and 3: 0\n",
      "Comparison Result for Articles 2 and 3: 0\n",
      "Comparison Result for Articles 3 and 4: 97\n",
      "Comparison Result for Articles 1 and 4: 0\n",
      "Comparison Result for Articles 2 and 4: 0\n"
     ]
    }
   ],
   "source": [
    "comparison_result_1_2 = ppdeep.compare(hash_values[url_1], hash_values[url_2])\n",
    "print(f\"Comparison Result for Articles 1 and 2: {comparison_result_1_2}\")\n",
    "\n",
    "comparison_result_1_3 = ppdeep.compare(hash_values[url_1], hash_values[url_3])\n",
    "print(f\"Comparison Result for Articles 1 and 3: {comparison_result_1_3}\")\n",
    "\n",
    "comparison_result_2_3 = ppdeep.compare(hash_values[url_2], hash_values[url_3])\n",
    "print(f\"Comparison Result for Articles 2 and 3: {comparison_result_2_3}\")\n",
    "\n",
    "comparison_result_3_4 = ppdeep.compare(hash_values[url_3], hash_values[url_4])\n",
    "print(f\"Comparison Result for Articles 3 and 4: {comparison_result_3_4}\")\n",
    "\n",
    "comparison_result_1_4 = ppdeep.compare(hash_values[url_1], hash_values[url_4])\n",
    "print(f\"Comparison Result for Articles 1 and 4: {comparison_result_1_4}\")\n",
    "\n",
    "comparison_result_2_4 = ppdeep.compare(hash_values[url_2], hash_values[url_4])\n",
    "print(f\"Comparison Result for Articles 2 and 4: {comparison_result_2_4}\")\n"
   ],
   "metadata": {
    "collapsed": false,
    "ExecuteTime": {
     "end_time": "2024-01-23T22:54:57.638197Z",
     "start_time": "2024-01-23T22:54:57.636327Z"
    }
   },
   "id": "f19f34e75456fa24"
  },
  {
   "cell_type": "markdown",
   "source": [
    "This is providing exactly what I need really. Zero where we would expect and strong positives for \n",
    "duplicates!"
   ],
   "metadata": {
    "collapsed": false
   },
   "id": "d1393c1067cd501c"
  },
  {
   "cell_type": "code",
   "execution_count": 16,
   "outputs": [
    {
     "name": "stdout",
     "output_type": "stream",
     "text": [
      "Collecting mmh3\r\n",
      "  Downloading mmh3-4.1.0-cp38-cp38-macosx_11_0_arm64.whl.metadata (13 kB)\r\n",
      "Downloading mmh3-4.1.0-cp38-cp38-macosx_11_0_arm64.whl (30 kB)\r\n",
      "Installing collected packages: mmh3\r\n",
      "Successfully installed mmh3-4.1.0\r\n"
     ]
    }
   ],
   "source": [
    "!pip install mmh3\n",
    "#  Non-cryptographic, speedy hash MurmurHash3\n",
    "import mmh3"
   ],
   "metadata": {
    "collapsed": false,
    "ExecuteTime": {
     "end_time": "2024-01-23T19:37:08.244236Z",
     "start_time": "2024-01-23T19:37:05.760408Z"
    }
   },
   "id": "3f6771d872cadbd7"
  },
  {
   "cell_type": "code",
   "execution_count": 71,
   "outputs": [
    {
     "name": "stdout",
     "output_type": "stream",
     "text": [
      "URL: https://www.standard.co.uk/news/politics/keir-starmer-rishi-sunak-prime-minister-labour-jeremy-hunt-b1129944.html\n",
      "mmh3 Hash Value: -1814420583\n",
      "==================================================\n",
      "URL: https://www.thetelegraphandargus.co.uk/news/national/24023150.political-leaders-set-stall-start-campaigning-ahead-election/\n",
      "mmh3 Hash Value: -2050602850\n",
      "==================================================\n",
      "URL: https://uk.news.yahoo.com/queen-infuriated-harry-meghan-claim-104006416.html?guccounter=1\n",
      "mmh3 Hash Value: 1032684053\n",
      "==================================================\n",
      "URL: https://www.independent.co.uk/life-style/royal-family/harry-meghan-lilibet-robert-hardman-king-biography-b2478702.html\n",
      "mmh3 Hash Value: -355670058\n",
      "==================================================\n"
     ]
    }
   ],
   "source": [
    "mmh3_hash_values = {}\n",
    "\n",
    "for url, hash_value in hash_values.items():\n",
    "    mmh3_hash_value = mmh3.hash(hash_value)\n",
    "    mmh3_hash_values[url] = mmh3_hash_value\n",
    "\n",
    "\n",
    "for url, mmh3_hash_value in mmh3_hash_values.items():\n",
    "    print(f\"URL: {url}\\nmmh3 Hash Value: {mmh3_hash_value}\\n{'='*50}\")"
   ],
   "metadata": {
    "collapsed": false,
    "ExecuteTime": {
     "end_time": "2024-01-23T22:55:58.625680Z",
     "start_time": "2024-01-23T22:55:58.604462Z"
    }
   },
   "id": "b088732b1da57aea"
  },
  {
   "cell_type": "markdown",
   "source": [
    "So storing a stronger hash is probably pointless as it is unlikely to ever be an identical match?"
   ],
   "metadata": {
    "collapsed": false
   },
   "id": "5f2864d9b1aa1fc2"
  },
  {
   "cell_type": "code",
   "execution_count": 43,
   "outputs": [],
   "source": [
    "import nltk\n",
    "# nltk.download('punkt')\n",
    "\n",
    "def calculate_ttr(text):\n",
    "    tokens = nltk.word_tokenize(text)\n",
    "    types = set(tokens)\n",
    "    ttr = len(types) / len(tokens) if len(tokens) > 0 else 0\n",
    "\n",
    "    return ttr"
   ],
   "metadata": {
    "collapsed": false,
    "ExecuteTime": {
     "end_time": "2024-01-23T22:26:07.831904Z",
     "start_time": "2024-01-23T22:26:07.829655Z"
    }
   },
   "id": "23f3bb0831b8f810"
  },
  {
   "cell_type": "code",
   "execution_count": 72,
   "outputs": [
    {
     "name": "stdout",
     "output_type": "stream",
     "text": [
      "URL: https://www.standard.co.uk/news/politics/keir-starmer-rishi-sunak-prime-minister-labour-jeremy-hunt-b1129944.html\n",
      "TTR Value: 0.4238845144356955\n",
      "==================================================\n",
      "URL: https://www.thetelegraphandargus.co.uk/news/national/24023150.political-leaders-set-stall-start-campaigning-ahead-election/\n",
      "TTR Value: 0.44291091593475534\n",
      "==================================================\n",
      "URL: https://uk.news.yahoo.com/queen-infuriated-harry-meghan-claim-104006416.html?guccounter=1\n",
      "TTR Value: 0.4006677796327212\n",
      "==================================================\n",
      "URL: https://www.independent.co.uk/life-style/royal-family/harry-meghan-lilibet-robert-hardman-king-biography-b2478702.html\n",
      "TTR Value: 0.3962558502340094\n",
      "==================================================\n"
     ]
    }
   ],
   "source": [
    "ttr_values = {}\n",
    "\n",
    "for url, text in extracted_texts.items():\n",
    "    ttr_value = calculate_ttr(text)\n",
    "    ttr_values[url] = ttr_value\n",
    "\n",
    "for url, ttr_value in ttr_values.items():\n",
    "    print(f\"URL: {url}\\nTTR Value: {ttr_value}\\n{'='*50}\")"
   ],
   "metadata": {
    "collapsed": false,
    "ExecuteTime": {
     "end_time": "2024-01-23T22:58:15.605888Z",
     "start_time": "2024-01-23T22:58:15.603008Z"
    }
   },
   "id": "591364d3fc2c17b6"
  },
  {
   "cell_type": "markdown",
   "source": [
    "TTR alone won't differentiate, but could it be a contributory factor in identifying suspicions?"
   ],
   "metadata": {
    "collapsed": false
   },
   "id": "228f282efc716924"
  },
  {
   "cell_type": "code",
   "execution_count": 80,
   "outputs": [
    {
     "name": "stdout",
     "output_type": "stream",
     "text": [
      " Measure  Article 1  Article 2  Article 3  Article 4\n",
      "   words 675.000000 705.000000 497.000000 532.000000\n",
      "   terms 305.000000 335.000000 235.000000 247.000000\n",
      "     ttr   0.451852   0.475177   0.472837   0.464286\n",
      "    rttr  11.739455  12.616830  10.541191  10.708808\n",
      "    cttr   8.301049   8.921446   7.453747   7.572271\n",
      "   msttr   0.713333   0.717143   0.720000   0.706000\n",
      "   mattr   0.720660   0.724422   0.742714   0.737206\n",
      "    mtld  89.574053  91.388545 103.709258 100.280922\n",
      "     hdd   0.837117   0.841448   0.856829   0.859342\n",
      "    vocd  90.744643  93.597669 107.772579 110.014515\n",
      "  Herdan   0.878060   0.886544   0.879360   0.877760\n",
      "  Summer   0.930611   0.935969   0.929592   0.929018\n",
      "  Dugast  53.425771  57.803857  51.463762  51.347004\n",
      "    Maas   0.018718   0.017300   0.019431   0.019475\n",
      "   yulek 124.049383 119.833006 106.797728 104.231443\n",
      "   yulei  15.447526  17.740278  19.043103  18.859042\n",
      "herdanvm   0.102994   0.102062   0.091851   0.090853\n",
      "simpsond   0.012423   0.012000   0.010701   0.010443\n"
     ]
    }
   ],
   "source": [
    "from lexicalrichness import LexicalRichness\n",
    "import pandas as pd\n",
    "\n",
    "# Assuming you have the extracted_texts dictionary containing URLs as keys and article texts as values\n",
    "# extracted_texts = {url_1: article_text_1, url_2: article_text_2, ...}\n",
    "\n",
    "measures = [\n",
    "    \"words\",\n",
    "    \"terms\",\n",
    "    \"ttr\",\n",
    "    \"rttr\",\n",
    "    \"cttr\",\n",
    "    \"msttr\",\n",
    "    \"mattr\",\n",
    "    \"mtld\",\n",
    "    \"hdd\",\n",
    "    \"vocd\",\n",
    "    \"Herdan\",\n",
    "    \"Summer\",\n",
    "    \"Dugast\",\n",
    "    \"Maas\",\n",
    "    \"yulek\",\n",
    "    \"yulei\",\n",
    "    \"herdanvm\",\n",
    "    \"simpsond\",\n",
    "]\n",
    "\n",
    "\n",
    "lexical_richness_data = {\"Measure\": measures}\n",
    "\n",
    "# Looping through each URL and calculate lexical richness measures\n",
    "for url, text in extracted_texts.items():\n",
    "    lex = LexicalRichness(text)\n",
    "    lexical_richness_data[url] = [getattr(lex, measure)() if callable(getattr(lex, measure)) else getattr(lex, measure) for measure in measures]\n",
    "\n",
    "df = pd.DataFrame(lexical_richness_data)\n",
    "\n",
    "df.columns = [\"Measure\"] + [col.split(\"/\")[-1] for col in df.columns[1:]]\n",
    "\n",
    "df.rename(columns={\n",
    "    \"keir-starmer-rishi-sunak-prime-minister-labour-jeremy-hunt-b1129944.html\": \"Article 1\",\n",
    "    \"queen-infuriated-harry-meghan-claim-104006416.html?guccounter=1\": \"Article 3\",\n",
    "    \"\": \"Article 2\",\n",
    "    \"harry-meghan-lilibet-robert-hardman-king-biography-b2478702.html\": \"Article 4\"\n",
    "}, inplace=True)\n",
    "\n",
    "print(df.to_string(index=False))\n"
   ],
   "metadata": {
    "collapsed": false,
    "ExecuteTime": {
     "end_time": "2024-01-23T23:17:33.658407Z",
     "start_time": "2024-01-23T23:17:33.048821Z"
    }
   },
   "id": "5a673f8262e7338c"
  },
  {
   "cell_type": "code",
   "execution_count": 85,
   "outputs": [
    {
     "name": "stdout",
     "output_type": "stream",
     "text": [
      "     Measure  Percentage Difference (1-2)  Percentage Difference (1-3)  \\\n",
      "0      words                     4.255319                    35.814889   \n",
      "1      terms                     8.955224                    29.787234   \n",
      "2        ttr                     4.908789                     4.438140   \n",
      "3       rttr                     6.954001                    11.367452   \n",
      "4       cttr                     6.954001                    11.367452   \n",
      "5      msttr                     0.531208                     0.925926   \n",
      "6      mattr                     0.519410                     2.969361   \n",
      "7       mtld                     1.985470                    13.629646   \n",
      "8        hdd                     0.514699                     2.300548   \n",
      "9       vocd                     3.048181                    15.799878   \n",
      "10    Herdan                     0.956913                     0.147776   \n",
      "11    Summer                     0.572453                     0.109628   \n",
      "12    Dugast                     7.574038                     3.812409   \n",
      "13      Maas                     8.194709                     3.672402   \n",
      "14     yulek                     3.518543                    16.153578   \n",
      "15     yulei                    12.923994                    18.881259   \n",
      "16  herdanvm                     0.912947                    12.131963   \n",
      "17  simpsond                     3.525079                    16.091857   \n",
      "\n",
      "    Percentage Difference (2-4)  Percentage Difference (3-4)  \n",
      "0                     32.518797                     6.578947  \n",
      "1                     35.627530                     4.858300  \n",
      "2                      2.345881                     1.841820  \n",
      "3                     17.817312                     1.565230  \n",
      "4                     17.817312                     1.565230  \n",
      "5                      1.578308                     1.983003  \n",
      "6                      1.733994                     0.747149  \n",
      "7                      8.867466                     3.418732  \n",
      "8                      2.082300                     0.292462  \n",
      "9                     14.922436                     2.037855  \n",
      "10                     1.000690                     0.182247  \n",
      "11                     0.748153                     0.061721  \n",
      "12                    12.574937                     0.227390  \n",
      "13                    11.170281                     0.226874  \n",
      "14                    14.968193                     2.462102  \n",
      "15                     5.932239                     0.975987  \n",
      "16                    12.337635                     1.098041  \n",
      "17                    14.915087                     2.475693  \n"
     ]
    }
   ],
   "source": [
    "percentage_diff_1_2 = ((df[\"Article 1\"] - df[\"Article 2\"]) / df[\"Article 2\"]) * 100\n",
    "percentage_diff_1_3 = ((df[\"Article 1\"] - df[\"Article 3\"]) / df[\"Article 3\"]) * 100\n",
    "percentage_diff_2_4 = ((df[\"Article 2\"] - df[\"Article 4\"]) / df[\"Article 4\"]) * 100\n",
    "percentage_diff_3_4 = ((df[\"Article 3\"] - df[\"Article 4\"]) / df[\"Article 4\"]) * 100\n",
    "\n",
    "# Display the results\n",
    "result_df = pd.DataFrame({\n",
    "    \"Measure\": df[\"Measure\"],\n",
    "    \"Percentage Difference (1-2)\": percentage_diff_1_2,\n",
    "    \"Percentage Difference (1-3)\": percentage_diff_1_3,\n",
    "    \"Percentage Difference (2-4)\": percentage_diff_2_4,\n",
    "    \"Percentage Difference (3-4)\": percentage_diff_3_4,\n",
    "})\n",
    "\n",
    "# Take absolute percentage change here\n",
    "result_df[[\"Percentage Difference (1-2)\", \"Percentage Difference (1-3)\", \"Percentage Difference (2-4)\", \"Percentage Difference (3-4)\"]] = result_df[[\"Percentage Difference (1-2)\", \"Percentage Difference (1-3)\", \"Percentage Difference (2-4)\", \"Percentage Difference (3-4)\"]].abs()\n",
    "\n",
    "\n",
    "print(result_df)"
   ],
   "metadata": {
    "collapsed": false,
    "ExecuteTime": {
     "end_time": "2024-01-23T23:28:04.552543Z",
     "start_time": "2024-01-23T23:28:04.519927Z"
    }
   },
   "id": "50f8d26490e17e48"
  },
  {
   "cell_type": "code",
   "execution_count": 86,
   "outputs": [],
   "source": [
    "df.to_csv('lexical_richness_comparison.csv', index=False)\n",
    "result_df.to_csv('lexical_richness_comparison_%_difference.csv', index=False)"
   ],
   "metadata": {
    "collapsed": false,
    "ExecuteTime": {
     "end_time": "2024-01-23T23:28:05.507190Z",
     "start_time": "2024-01-23T23:28:05.485030Z"
    }
   },
   "id": "a84e43da81a1db6d"
  }
 ],
 "metadata": {
  "kernelspec": {
   "display_name": "Python 3",
   "language": "python",
   "name": "python3"
  },
  "language_info": {
   "codemirror_mode": {
    "name": "ipython",
    "version": 2
   },
   "file_extension": ".py",
   "mimetype": "text/x-python",
   "name": "python",
   "nbconvert_exporter": "python",
   "pygments_lexer": "ipython2",
   "version": "2.7.6"
  }
 },
 "nbformat": 4,
 "nbformat_minor": 5
}
