{
 "cells": [
  {
   "cell_type": "markdown",
   "source": [],
   "metadata": {
    "collapsed": false
   },
   "id": "9428c525083ca7d4"
  },
  {
   "cell_type": "code",
   "execution_count": 7,
   "outputs": [],
   "source": [
    "import trafilatura"
   ],
   "metadata": {
    "collapsed": false,
    "ExecuteTime": {
     "end_time": "2024-01-23T19:29:46.484237Z",
     "start_time": "2024-01-23T19:29:46.175831Z"
    }
   },
   "id": "4ec66844c146f6cf"
  },
  {
   "cell_type": "code",
   "execution_count": 8,
   "outputs": [],
   "source": [
    "url_1 = \"https://www.standard.co.uk/news/politics/keir-starmer-rishi-sunak-prime-minister-labour-jeremy-hunt-b1129944.html\"\n",
    "\n",
    "url_2 = \"https://www.thetelegraphandargus.co.uk/news/national/24023150.political-leaders-set-stall-start-campaigning-ahead-election/\"\n"
   ],
   "metadata": {
    "collapsed": false,
    "ExecuteTime": {
     "end_time": "2024-01-23T19:29:46.514846Z",
     "start_time": "2024-01-23T19:29:46.492344Z"
    }
   },
   "id": "8b2bc861427c9144"
  },
  {
   "cell_type": "code",
   "execution_count": 41,
   "outputs": [
    {
     "name": "stdout",
     "output_type": "stream",
     "text": [
      "Political party leaders are set to lay out their stall to voters this week as they mark the start of what is likely to be a general election year.\n",
      "With 2024 expected to see voters go to the polls to elect a new Westminster government, the first week of January will see a flurry of activity.\n",
      "Rishi Sunak is expected to tell voters he is on a tax reducing mission during a visit on Thursday as he marks the introduction of the national insurance cut.\n",
      "The Prime Minister is set to meet people and take questions in the East Midlands during his first public appearance of the year, a No 10 source confirmed to the PA news agency.\n",
      "The source said the Conservative Party leader would be reiterating his belief in “low taxes” and will point to how he has fired the starting gun on cutting taxes, starting with Saturday’s reduction in national insurance.\n",
      "The Prime Minister and the Chancellor have been clear that over time they will cut taxes in a careful and sustainable way, based on our fiscal rules and the public financial position\n",
      "Prime Minister's official spokesman\n",
      "Chancellor Jeremy Hunt announced in the autumn statement in November that from January 6, the main rate of national insurance will be cut by two percentage points to 10%.\n",
      "The change to the national insurance rate on earnings between £12,570 and £50,270 will save someone earning £35,000 more than £450 a year, according to Treasury figures.\n",
      "Mr Sunak is planning to tell voters during events across the country this week that pre-election tax cuts will put “more money in people’s pockets” in 2024, according to The Times.\n",
      "Read More\n",
      "The newspaper reported that he will also tell them he “always wanted to get tax down” after delivering on his pledge to halve the rate of inflation by the end of 2023.\n",
      "There has been recent speculation that Mr Sunak could make more attention-grabbing pledges in the spring budget in March, with income tax cuts and the abolition of inheritance tax reportedly being considered ahead of a general election that must take place by January 2025.\n",
      "The Prime Minister’s official spokesman told reporters on Tuesday he was “not going to get into” speculating on when further tax cuts might potentially be announced.\n",
      "He said: “The Prime Minister and the Chancellor have been clear that over time they will cut taxes in a careful and sustainable way, based on our fiscal rules and the public financial position.”\n",
      "The Budget has been set for March 6, with some Westminster watchers speculating that it could pave the way for tax cuts, followed by a spring general election, possibly on May 2 to coincide with local elections.\n",
      "Labour is understood to be preparing for an early election, with party leader Sir Keir Starmer set to make his own intervention on Thursday in a speech in the South West.\n",
      "In a pitch directly to the electorate which is designed to stress the “power of the vote in an election year”, Sir Keir is expected to highlight that there is “opportunity for change” in 2024, but that the change “can only come about if people recognise that they have a voice in it”.\n",
      "A source close to the Opposition leader told PA: “It is about encouraging everybody to recognise the importance of this year, and that it is a real opportunity to turn a new page.”\n",
      "The set piece is designed to counter voter apathy, the source said, and act as a call to those who lent their vote to the Tories in 2019, urging them to put their faith in Labour following Sir Keir’s reforms since he became leader almost four years ago.\n",
      "Sir Ed Davey, the Liberal Democrat leader, is scheduled on Wednesday to kick-start the year’s campaigning for his party in target seats in the so-called “Blue Wall” — seats in the south of England that have traditionally been held by the Conservatives.\n",
      "Richard Tice, leader of Reform — formerly the Brexit Party — is also due to set out his party’s strategic vision for the next 12 months this week.\n"
     ]
    }
   ],
   "source": [
    "downloaded = trafilatura.fetch_url(url_1)\n",
    "\n",
    "article_text_1 = trafilatura.extract(downloaded, favour_recall=True,\n",
    "                                                       include_comments=False, include_images=False,\n",
    "                                                       include_tables=False)\n",
    "\n",
    "downloaded = trafilatura.fetch_url(url_2)\n",
    "\n",
    "article_text_2 = trafilatura.extract(downloaded, favour_recall=True,\n",
    "                                                       include_comments=False, include_images=False,\n",
    "                                                       include_tables=False)\n",
    "\n",
    "print(article_text_1)"
   ],
   "metadata": {
    "collapsed": false,
    "ExecuteTime": {
     "end_time": "2024-01-23T22:25:55.386031Z",
     "start_time": "2024-01-23T22:25:54.051098Z"
    }
   },
   "id": "4f2827268802b752"
  },
  {
   "cell_type": "code",
   "execution_count": 42,
   "outputs": [
    {
     "name": "stdout",
     "output_type": "stream",
     "text": [
      "Political party leaders are set to lay out their stall to voters this week as they mark the start of what is likely to be a general election year.\n",
      "With 2024 expected to see voters go to the polls to elect a new Westminster government, the first week of January will see a flurry of activity.\n",
      "Rishi Sunak is expected to tell voters he is on a tax reducing mission during a visit on Thursday as he marks the introduction of the national insurance cut.\n",
      "The Prime Minister is set to meet people and take questions in the East Midlands during his first public appearance of the year, a No 10 source confirmed to the PA news agency.\n",
      "The source said the Conservative Party leader would be reiterating his belief in “low taxes” and will point to how he has fired the starting gun on cutting taxes, starting with Saturday’s reduction in national insurance.\n",
      "Chancellor Jeremy Hunt announced in the autumn statement in November that from January 6, the main rate of national insurance will be cut by two percentage points to 10%.\n",
      "The change to the national insurance rate on earnings between £12,570 and £50,270 will save someone earning £35,000 more than £450 a year, according to Treasury figures.\n",
      "Mr Sunak is planning to tell voters during events across the country this week that pre-election tax cuts will put “more money in people’s pockets” in 2024, according to The Times.\n",
      "The newspaper reported that he will also tell them he “always wanted to get tax down” after delivering on his pledge to halve the rate of inflation by the end of 2023.\n",
      "There has been recent speculation that Mr Sunak could make more attention-grabbing pledges in the spring budget in March, with income tax cuts and the abolition of inheritance tax reportedly being considered ahead of a general election that must take place by January 2025.\n",
      "The Prime Minister’s official spokesman told reporters on Tuesday he was “not going to get into” speculating on when further tax cuts might potentially be announced.\n",
      "He said: “The Prime Minister and the Chancellor have been clear that over time they will cut taxes in a careful and sustainable way, based on our fiscal rules and the public financial position.”\n",
      "The Budget has been set for March 6, with some Westminster watchers speculating that it could pave the way for tax cuts, followed by a spring general election, possibly on May 2 to coincide with local elections.\n",
      "Labour is understood to be preparing for an early election, with party leader Sir Keir Starmer set to make his own intervention on Thursday in a speech in the South West.\n",
      "In a pitch directly to the electorate which is designed to stress the “power of the vote in an election year”, Sir Keir is expected to highlight that there is “opportunity for change” in 2024, but that the change “can only come about if people recognise that they have a voice in it”.\n",
      "A source close to the Opposition leader told PA: “It is about encouraging everybody to recognise the importance of this year, and that it is a real opportunity to turn a new page.”\n",
      "The set piece is designed to counter voter apathy, the source said, and act as a call to those who lent their vote to the Tories in 2019, urging them to put their faith in Labour following Sir Keir’s reforms since he became leader almost four years ago.\n",
      "Sir Ed Davey, the Liberal Democrat leader, is scheduled on Wednesday to kick-start the year’s campaigning for his party in target seats in the so-called “Blue Wall” — seats in the south of England that have traditionally been held by the Conservatives.\n",
      "Richard Tice, leader of Reform — formerly the Brexit Party — is also due to set out his party’s strategic vision for the next 12 months this week.\n",
      "Comments: Our rules\n",
      "We want our comments to be a lively and valuable part of our community - a place where readers can debate and engage with the most important local issues. The ability to comment on our stories is a privilege, not a right, however, and that privilege may be withdrawn if it is abused or misused.\n",
      "Please report any comments that break our rules.Read the rules here\n"
     ]
    }
   ],
   "source": [
    "print(article_text_2)"
   ],
   "metadata": {
    "collapsed": false,
    "ExecuteTime": {
     "end_time": "2024-01-23T22:25:56.612670Z",
     "start_time": "2024-01-23T22:25:56.593619Z"
    }
   },
   "id": "e2020d1151bbcb79"
  },
  {
   "cell_type": "code",
   "execution_count": 10,
   "outputs": [],
   "source": [
    "#!pip install ppdeep\n",
    "\n",
    "# Fuzzy hash for similarity > 80 means highly similar or near-duplicates \n",
    "# There is variance in trafilatura extraction due to dense web page content so exact match seems \n",
    "# unlikely.\n",
    "\n",
    "import ppdeep"
   ],
   "metadata": {
    "collapsed": false,
    "ExecuteTime": {
     "end_time": "2024-01-23T19:29:48.218134Z",
     "start_time": "2024-01-23T19:29:48.212460Z"
    }
   },
   "id": "1be6bc4364f4ad82"
  },
  {
   "cell_type": "code",
   "execution_count": 12,
   "outputs": [],
   "source": [
    "h1 = ppdeep.hash(article_text_1)\n",
    "h2 = ppdeep.hash(article_text_2)"
   ],
   "metadata": {
    "collapsed": false,
    "ExecuteTime": {
     "end_time": "2024-01-23T19:30:02.894132Z",
     "start_time": "2024-01-23T19:30:02.892901Z"
    }
   },
   "id": "6ddead694a318285"
  },
  {
   "cell_type": "code",
   "execution_count": 14,
   "outputs": [
    {
     "data": {
      "text/plain": "88"
     },
     "execution_count": 14,
     "metadata": {},
     "output_type": "execute_result"
    }
   ],
   "source": [
    "ppdeep.compare(h1, h2)"
   ],
   "metadata": {
    "collapsed": false,
    "ExecuteTime": {
     "end_time": "2024-01-23T19:31:35.659237Z",
     "start_time": "2024-01-23T19:31:35.644240Z"
    }
   },
   "id": "f19f34e75456fa24"
  },
  {
   "cell_type": "code",
   "execution_count": 16,
   "outputs": [
    {
     "name": "stdout",
     "output_type": "stream",
     "text": [
      "Collecting mmh3\r\n",
      "  Downloading mmh3-4.1.0-cp38-cp38-macosx_11_0_arm64.whl.metadata (13 kB)\r\n",
      "Downloading mmh3-4.1.0-cp38-cp38-macosx_11_0_arm64.whl (30 kB)\r\n",
      "Installing collected packages: mmh3\r\n",
      "Successfully installed mmh3-4.1.0\r\n"
     ]
    }
   ],
   "source": [
    "!pip install mmh3\n",
    "#  Non-cryptographic, speedy hash MurmurHash3\n",
    "\n",
    "import mmh3"
   ],
   "metadata": {
    "collapsed": false,
    "ExecuteTime": {
     "end_time": "2024-01-23T19:37:08.244236Z",
     "start_time": "2024-01-23T19:37:05.760408Z"
    }
   },
   "id": "3f6771d872cadbd7"
  },
  {
   "cell_type": "code",
   "execution_count": 17,
   "outputs": [
    {
     "name": "stdout",
     "output_type": "stream",
     "text": [
      "-15502016\n",
      "1352493323\n"
     ]
    }
   ],
   "source": [
    "mmh3_h1 = mmh3.hash(article_text_1)\n",
    "print(mmh3_h1)\n",
    "\n",
    "mmh3_h2 = mmh3.hash(article_text_2)\n",
    "print(mmh3_h2)"
   ],
   "metadata": {
    "collapsed": false,
    "ExecuteTime": {
     "end_time": "2024-01-23T19:38:09.721886Z",
     "start_time": "2024-01-23T19:38:09.713818Z"
    }
   },
   "id": "b088732b1da57aea"
  },
  {
   "cell_type": "code",
   "execution_count": 43,
   "outputs": [],
   "source": [
    "import nltk\n",
    "# nltk.download('punkt')\n",
    "\n",
    "def calculate_ttr(text):\n",
    "    tokens = nltk.word_tokenize(text)\n",
    "    types = set(tokens)\n",
    "    ttr = len(types) / len(tokens) if len(tokens) > 0 else 0\n",
    "\n",
    "    return ttr"
   ],
   "metadata": {
    "collapsed": false,
    "ExecuteTime": {
     "end_time": "2024-01-23T22:26:07.831904Z",
     "start_time": "2024-01-23T22:26:07.829655Z"
    }
   },
   "id": "23f3bb0831b8f810"
  },
  {
   "cell_type": "code",
   "execution_count": 44,
   "outputs": [
    {
     "name": "stdout",
     "output_type": "stream",
     "text": [
      "0.4238845144356955\n",
      "0.44291091593475534\n"
     ]
    }
   ],
   "source": [
    "print(calculate_ttr(article_text_1))\n",
    "print(calculate_ttr(article_text_2))"
   ],
   "metadata": {
    "collapsed": false,
    "ExecuteTime": {
     "end_time": "2024-01-23T22:26:08.537306Z",
     "start_time": "2024-01-23T22:26:08.528808Z"
    }
   },
   "id": "591364d3fc2c17b6"
  },
  {
   "cell_type": "code",
   "execution_count": 51,
   "outputs": [
    {
     "name": "stdout",
     "output_type": "stream",
     "text": [
      "     Measure   Article 1   Article 2\n",
      "0      words  675.000000  705.000000\n",
      "1      terms  305.000000  335.000000\n",
      "2        ttr    0.451852    0.475177\n",
      "3       rttr   11.739455   12.616830\n",
      "4       cttr    8.301049    8.921446\n",
      "5      msttr    0.713333    0.717143\n",
      "6      mattr    0.720660    0.724422\n",
      "7       mtld   89.574053   91.388545\n",
      "8        hdd    0.837117    0.841448\n",
      "9       vocd   90.744643   93.597669\n",
      "10    Herdan    0.878060    0.886544\n",
      "11    Summer    0.930611    0.935969\n",
      "12    Dugast   53.425771   57.803857\n",
      "13      Maas    0.018718    0.017300\n",
      "14     yulek  124.049383  119.833006\n",
      "15     yulei   15.447526   17.740278\n",
      "16  herdanvm    0.102994    0.102062\n",
      "17  simpsond    0.012423    0.012000\n"
     ]
    }
   ],
   "source": [
    "from lexicalrichness import LexicalRichness\n",
    "import pandas as pd\n",
    "\n",
    "# Calculate lexical richness for both texts\n",
    "lex_1 = LexicalRichness(article_text_1)\n",
    "lex_2 = LexicalRichness(article_text_2)\n",
    "\n",
    "# Define the measures you want to compare\n",
    "measures = [\n",
    "    \"words\",\n",
    "    \"terms\",\n",
    "    \"ttr\",\n",
    "    \"rttr\",\n",
    "    \"cttr\",\n",
    "    \"msttr\",\n",
    "    \"mattr\",\n",
    "    \"mtld\",\n",
    "    \"hdd\",\n",
    "    \"vocd\",\n",
    "    \"Herdan\",\n",
    "    \"Summer\",\n",
    "    \"Dugast\",\n",
    "    \"Maas\",\n",
    "    \"yulek\",\n",
    "    \"yulei\",\n",
    "    \"herdanvm\",\n",
    "    \"simpsond\",\n",
    "]\n",
    "\n",
    "data = {\n",
    "    \"Measure\": measures,\n",
    "    \"Article 1\": [getattr(lex_1, measure)() if callable(getattr(lex_1, measure)) else getattr(lex_1, measure) for measure in measures],\n",
    "    \"Article 2\": [getattr(lex_2, measure)() if callable(getattr(lex_2, measure)) else getattr(lex_2, measure) for measure in measures],\n",
    "}\n",
    "\n",
    "df = pd.DataFrame(data)\n",
    "\n",
    "print(df)\n"
   ],
   "metadata": {
    "collapsed": false,
    "ExecuteTime": {
     "end_time": "2024-01-23T22:34:23.200479Z",
     "start_time": "2024-01-23T22:34:23.006008Z"
    }
   },
   "id": "5a673f8262e7338c"
  }
 ],
 "metadata": {
  "kernelspec": {
   "display_name": "Python 3",
   "language": "python",
   "name": "python3"
  },
  "language_info": {
   "codemirror_mode": {
    "name": "ipython",
    "version": 2
   },
   "file_extension": ".py",
   "mimetype": "text/x-python",
   "name": "python",
   "nbconvert_exporter": "python",
   "pygments_lexer": "ipython2",
   "version": "2.7.6"
  }
 },
 "nbformat": 4,
 "nbformat_minor": 5
}
