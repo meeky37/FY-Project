{
 "cells": [
  {
   "cell_type": "code",
   "execution_count": 1,
   "id": "initial_id",
   "metadata": {
    "collapsed": true,
    "ExecuteTime": {
     "end_time": "2023-10-30T15:33:52.453926Z",
     "start_time": "2023-10-30T15:33:52.451374Z"
    }
   },
   "outputs": [],
   "source": [
    "# pip install spacy==2.3.5\n",
    "# python -m spacy download en\n",
    "# pip install neuralcoref --no-binary neuralcoref (got binary error on github so this install)\n",
    "\n",
    "# Python==3.8 (3.7.10 backup)\n",
    "# spacy==2.3.5\n",
    "# neuralcoref==4.0\n"
   ]
  },
  {
   "cell_type": "code",
   "execution_count": 2,
   "outputs": [],
   "source": [
    "\n",
    "# Load your usual SpaCy model (one of SpaCy English models)\n",
    "# import spacy\n",
    "# nlp = spacy.load('en')\n",
    "\n",
    "# Add neural coref to SpaCy's pipe\n",
    "# import neuralcoref\n",
    "# neuralcoref.add_to_pipe(nlp)\n",
    "# \n",
    "# # You're done. You can now use NeuralCoref as you usually manipulate a SpaCy document annotations.\n",
    "# doc = nlp(u'My sister has a dog. She loves him.')\n",
    "# \n",
    "# doc._.has_coref\n",
    "# doc._.coref_clusters"
   ],
   "metadata": {
    "collapsed": false,
    "ExecuteTime": {
     "end_time": "2023-10-30T15:19:56.693747Z",
     "start_time": "2023-10-30T15:19:56.689067Z"
    }
   },
   "id": "4f2955c409ec4156"
  },
  {
   "cell_type": "code",
   "execution_count": 3,
   "outputs": [],
   "source": [
    "# # Access the resolved coreferences\n",
    "# for token in doc:\n",
    "#     print(token.text, token._.in_coref, token._.coref_clusters)\n",
    "# \n",
    "# # Iterate over resolved coreference clusters\n",
    "# for cluster in doc._.coref_clusters:\n",
    "#     print(cluster.mentions)"
   ],
   "metadata": {
    "collapsed": false,
    "ExecuteTime": {
     "end_time": "2023-10-30T15:19:56.709287Z",
     "start_time": "2023-10-30T15:19:56.693795Z"
    }
   },
   "id": "1ae059ba3be7ae23"
  },
  {
   "cell_type": "code",
   "execution_count": 2,
   "outputs": [
    {
     "data": {
      "text/plain": "'Hackable Halloween games MMXXIII\\n13 spooktacular games plus source code for readers to jam on.\\nWe’re spending Women’s History Month with women leaders who are making history every day in the tech community. Read more about Erin Spiceland: Software Engineer at SpaceX.\\nEvery March we recognize the women who have shaped history—and now, we’re taking a look forward. From driving software development in large companies to maintaining thriving open source communities, we’re spending Women’s History Month with women leaders who are making history every day in the tech community. Erin Spiceland is a Software Engineer for SpaceX. Born and raised in rural south Georgia, she is a Choctaw and Chickasaw mother of two now living in downtown Los Angeles. Erin didn’t finish college—she’s a predominantly self-taught software engineer. In her spare time, she makes handmade Native American beadwork and regalia and attends powwows.\\nMy career has been a winding road through periods of stimulation and health as well as periods of personal misery. During it all, I’ve learned a variety of programming languages and technologies while working on a diverse array of products and services. I’m a domestic abuse survivor and a Choctaw bisexual polyamorous woman. I’m so proud of myself that I made it this far considering where I came from.\\nIn 2007, I had a three-year-old daughter and I was trying to finish my computer science degree one class at a time, all while keeping my house and family running smoothly. I found the math classes exciting and quickly finished my math minor, leaving only computer science classes. I was looking at about five years before I would graduate. Then, my husband at the time recommended me for an entry software developer position at a telecom and digital communications company.\\nWhen faced with the choice between an expensive computer science degree and getting paid to do what I loved, I dropped out of college and accepted the job. I was hired to work on internal tooling, and eventually, products. I did a lot of development on product front-ends, embedded network devices, and a distributed platform-as-a-service. I learned Java/JSP, Python, JavaScript/CSS, Node.js, as well as MySQL, PostgreSQL, and distributed systems architecture. It was an intense experience that required a lot of self-teaching, asking others for help, and daycare, but it set me up for my later successes.\\nI appreciate and admire technical, effective leaders who care for their reports as humans, not as lines on a burndown chart, and forego heavy-handed direction in favor of communication and mutual dialogue. I think it’s as important for a leader to concern herself with her coworkers’ personal well-being as it is for her to direct their performance.\\nLast year I took a pay cut to move from a safe, easy job where I had security to work in a language I hadn’t seen in years and with systems more complicated than anything I’d worked with before. I moved from a place where I had a huge four bedroom house to a studio apartment that was twice the price. I moved away from my children, of who I share custody with my ex-husband. We fly across the U.S. to see each other now. I miss my children every day. However, I get to be a wonderful role model for them.\\nI can’t wait to wake up every day with my partner who loves me so much. I’m looking forward to showing my children exactly how far they can go. I’m excited to keep exploring Los Angeles.\\nWant to know more about Erin Spiceland? Follow them on GitHub or Twitter.\\nWant to learn more about featured leaders for Women’s History Month? Read about:\\nCheck back in soon—we’ll be adding new interviews weekly throughout March.'"
     },
     "execution_count": 2,
     "metadata": {},
     "output_type": "execute_result"
    }
   ],
   "source": [
    "import trafilatura\n",
    "downloaded = trafilatura.fetch_url('https://github.blog/2019-03-29-leader-spotlight-erin-spiceland/')\n",
    "trafilatura.extract(downloaded)"
   ],
   "metadata": {
    "collapsed": false,
    "ExecuteTime": {
     "end_time": "2023-10-30T15:34:10.978285Z",
     "start_time": "2023-10-30T15:34:10.528972Z"
    }
   },
   "id": "940b5977c62bce23"
  },
  {
   "cell_type": "code",
   "execution_count": 7,
   "outputs": [
    {
     "name": "stdout",
     "output_type": "stream",
     "text": [
      "['https://www.dailymail.co.uk/?ito=1490&ns_campaign=1490&ns_mchannel=rss', 'https://www.dailymail.co.uk/columnists/article-11735425/Should-UK-supply-RAF-Typhoons-help-Ukraine-fight-Russia.html?ito=1490&ns_campaign=1490&ns_mchannel=rss', 'https://www.dailymail.co.uk/columnists/article-11754389/DAN-WOOTTON-slams-Nicola-Sturgeons-snivelling-resignation.html?ito=1490&ns_campaign=1490&ns_mchannel=rss', 'https://www.dailymail.co.uk/columnists/article-11756475/EUAN-MCCOLM-Nicola-Sturgeon-used-words-153-times-said-Scotland-just-11.html?ito=1490&ns_campaign=1490&ns_mchannel=rss', 'https://www.dailymail.co.uk/columnists/article-11756697/EMMA-COWING-Nicola-Sturgeon-betrayed-women-end-failed-too.html?ito=1490&ns_campaign=1490&ns_mchannel=rss', 'https://www.dailymail.co.uk/debate/article-11424285/ANDREW-PIERCE-Jeremy-Hunts-headache-Budget-cost-seat.html?ito=1490&ns_campaign=1490&ns_mchannel=rss', 'https://www.dailymail.co.uk/debate/article-11765211/FRANK-FIELD-battled-Labours-hard-Left-political-career-Momentum-forced-out.html?ito=1490&ns_campaign=1490&ns_mchannel=rss', 'https://www.dailymail.co.uk/debate/article-11832673/Migration-Watch-Rishi-Sunak-Sulla-Braverman-hold-nerve-turning-point.html?ito=1490&ns_campaign=1490&ns_mchannel=rss', 'https://www.dailymail.co.uk/debate/article-11876457/PETER-HITCHENS-Making-women-wage-slaves-suits-except-women-children-course.html?ito=1490&ns_campaign=1490&ns_mchannel=rss', 'https://www.dailymail.co.uk/debate/article-11876497/DAN-HODGES-Rachel-Reeves-Labours-brightest-star-opened-door-Tory-fightback.html?ito=1490&ns_campaign=1490&ns_mchannel=rss', 'https://www.dailymail.co.uk/debate/article-11917317/As-Guardian-pays-10m-slavery-reparations-WILSON-says-simple-minded-war-history.html?ito=1490&ns_campaign=1490&ns_mchannel=rss', 'https://www.dailymail.co.uk/debate/article-11917831/STEPHEN-GLOVER-diesel-fiasco-eco-elite-inflict-disaster-electric-cars.html?ito=1490&ns_campaign=1490&ns_mchannel=rss', 'https://www.dailymail.co.uk/debate/article-11928629/SUELLA-BRAVERMAN-mission-ensure-really-no-hiding-place-gangs-grooming-young-girls.html?ito=1490&ns_campaign=1490&ns_mchannel=rss', 'https://www.dailymail.co.uk/debate/article-12060839/NADINE-DORRIES-MPs-Coronation-smacked-grubby-deals.html?ito=1490&ns_campaign=1490&ns_mchannel=rss', 'https://www.dailymail.co.uk/debate/article-12061439/AMANDA-PRITCHARD-Plan-let-pharmacies-hand-prescriptions-free-GPs-need.html?ito=1490&ns_campaign=1490&ns_mchannel=rss', 'https://www.dailymail.co.uk/debate/article-12153807/ANDREW-NEIL-think-taxes-high-Conservatives-wait-Labour-gets-in.html?ito=1490&ns_campaign=1490&ns_mchannel=rss', 'https://www.dailymail.co.uk/debate/article-12260461/RICHARD-LITTLEJOHN-bank-accounts-closed-not-holding-right-views.html?ito=1490&ns_campaign=1490&ns_mchannel=rss', 'https://www.dailymail.co.uk/debate/article-12272887/TOM-UTLEY-Bumper-week-hypocrites-Theres-one-brass-necked-chutzpah-took-breath-away.html?ito=1490&ns_campaign=1490&ns_mchannel=rss', 'https://www.dailymail.co.uk/debate/article-12337543/JAMES-ESSES-Dont-fooled-Labours-cynical-U-turn-gender-ID-party-thrall-radical-trans-ideology.html?ito=1490&ns_campaign=1490&ns_mchannel=rss', 'https://www.dailymail.co.uk/debate/article-12352431/PETER-HITCHENS-Brazen-shoplifting-Britain-just-start-actual-anarchy-not-far-off.html?ito=1490&ns_campaign=1490&ns_mchannel=rss', 'https://www.dailymail.co.uk/debate/article-12376891/MAIL-SUNDAY-COMMENT-Suella-succeed-Ministers-woefully-failed.html?ito=1490&ns_campaign=1490&ns_mchannel=rss', 'https://www.dailymail.co.uk/debate/article-12414631/STEPHEN-GLOVER-new-inflation-figures-real-spring-step-England-saw-Aussies.html?ito=1490&ns_campaign=1490&ns_mchannel=rss', 'https://www.dailymail.co.uk/debate/article-12606171/Iran-Hamas-proxy-emboldened-Western-weakness-Hybrid-warfare-expert-BOB-SEELY-explains-Tehrans-tentacles-spreading-remorselessly-Middle-East.html?ito=1490&ns_campaign=1490&ns_mchannel=rss', 'https://www.dailymail.co.uk/femail/article-11411951/Thousands-shoppers-swear-budget-shampoo-magic-dandruff-itchiness.html?ito=1490&ns_campaign=1490&ns_mchannel=rss', 'https://www.dailymail.co.uk/health/article-11792583/HEALTH-NOTES-Hay-fever-twice-fierce-urbanites-study-suggests.html?ito=1490&ns_campaign=1490&ns_mchannel=rss', 'https://www.dailymail.co.uk/health/article-11952255/Why-care-homes-refusing-tell-relatives-loved-ones-died-MP-says-NHS-breaking-law.html?ito=1490&ns_campaign=1490&ns_mchannel=rss', 'https://www.dailymail.co.uk/health/article-11976129/Women-HRT-kill-campaigners-claim-wheres-evidence.html?ito=1490&ns_campaign=1490&ns_mchannel=rss', 'https://www.dailymail.co.uk/health/article-12057501/GPs-given-240-million-new-phone-systems-ease-chaos-lengthy-waits-patients.html?ito=1490&ns_campaign=1490&ns_mchannel=rss', 'https://www.dailymail.co.uk/health/article-12061437/Number-pharmacies-England-drops-160-two-years-close-without-government-funding.html?ito=1490&ns_campaign=1490&ns_mchannel=rss', 'https://www.dailymail.co.uk/money/beatthescammers/article-12396705/How-fraudsters-stealing-BILLIONS-using-chip-pin-hack-banks-refuse-admit-scam-exists.html?ito=1490&ns_campaign=1490&ns_mchannel=rss', 'https://www.dailymail.co.uk/money/comment/article-11423227/RUTH-SUNDERLAND-Danger-hair-shirt-Budget.html?ito=1490&ns_campaign=1490&ns_mchannel=rss', 'https://www.dailymail.co.uk/money/comment/article-11436153/What-UKs-55bn-fiscal-hole-face-Budget-tax-hikes.html?ito=1490&ns_campaign=1490&ns_mchannel=rss', 'https://www.dailymail.co.uk/money/markets/article-11431437/Sterling-hits-1-20-against-fading-dollar-ahead-Hunt-Budget.html?ito=1490&ns_campaign=1490&ns_mchannel=rss', 'https://www.dailymail.co.uk/money/markets/article-11431933/Regulators-defend-use-controversial-LDI-pension-funds.html?ito=1490&ns_campaign=1490&ns_mchannel=rss', 'https://www.dailymail.co.uk/money/news/article-11436603/Mini-Budget-trashed-UK-reputation-says-BoEs-Bailey.html?ito=1490&ns_campaign=1490&ns_mchannel=rss', 'https://www.dailymail.co.uk/money/strictlybusiness/article-11430683/What-Jeremy-Hunt-Budget-Strictly-Business-debate.html?ito=1490&ns_campaign=1490&ns_mchannel=rss', 'https://www.dailymail.co.uk/news/article-11424011/House-prices-fall-4-000-buyers-jitters-possible-surprises-upcoming-Budget.html?ito=1490&ns_campaign=1490&ns_mchannel=rss', 'https://www.dailymail.co.uk/news/article-11425377/Higher-taxes-bigger-energy-bills-spending-Chancellor-seek-balance-UKs-books.html?ito=1490&ns_campaign=1490&ns_mchannel=rss', 'https://www.dailymail.co.uk/news/article-11425873/Government-overspent-foreign-aid-budget-1billion-money-spent-asylum-seekers.html?ito=1490&ns_campaign=1490&ns_mchannel=rss', 'https://www.dailymail.co.uk/news/article-11431121/MPs-docking-Truss-Kwarteng-6-000-ministerial-pay-offs-disastrous-mini-Budget.html?ito=1490&ns_campaign=1490&ns_mchannel=rss', 'https://www.dailymail.co.uk/news/article-11432319/Jeremy-Hunt-hit-savers-Budget-tax-free-allowance-freeze-ISAs-despite-high-inflation.html?ito=1490&ns_campaign=1490&ns_mchannel=rss', 'https://www.dailymail.co.uk/news/article-11436673/Jeremy-Hunt-prepares-deliver-brutal-budget-bleak-54-billion-package-tax-rises.html?ito=1490&ns_campaign=1490&ns_mchannel=rss', 'https://www.dailymail.co.uk/news/article-11438439/Pub-bosses-say-brink-autumn-statement.html?ito=1490&ns_campaign=1490&ns_mchannel=rss', 'https://www.dailymail.co.uk/news/article-11439081/Were-paying-Chancellors-Autumn-Budget-Britons-react-Hunts-announcement.html?ito=1490&ns_campaign=1490&ns_mchannel=rss', 'https://www.dailymail.co.uk/news/article-11439169/Oil-gas-giants-hit-higher-windfall-tax-autumn-statement.html?ito=1490&ns_campaign=1490&ns_mchannel=rss', 'https://www.dailymail.co.uk/news/article-11439327/Autumn-Budget-2022-doomed-Social-media-users-react-Jeremy-Hunts-autumn-statement.html?ito=1490&ns_campaign=1490&ns_mchannel=rss', 'https://www.dailymail.co.uk/news/article-11462993/Stop-smart-motorway-rollout-prevent-deaths-police-chief-urges-Rishi-Sunak.html?ito=1490&ns_campaign=1490&ns_mchannel=rss', 'https://www.dailymail.co.uk/news/article-11467317/Michelle-Mone-involved-crime-probe-203m-PPE-contracts-sleaze-watchdog-reveals.html?ito=1490&ns_campaign=1490&ns_mchannel=rss', 'https://www.dailymail.co.uk/news/article-11523045/I-blew-mini-Budget-Kwasi-Kwarteng-admits-Ex-Chancellor-regrets-45bn-tax-cuts.html?ito=1490&ns_campaign=1490&ns_mchannel=rss', 'https://www.dailymail.co.uk/news/article-11537183/Driving-agenda-Moment-councillor-votes-meeting-taking-Zoom-call-wheel-CAR.html?ito=1490&ns_campaign=1490&ns_mchannel=rss', 'https://www.dailymail.co.uk/news/article-11562201/Education-Secretary-Gillian-Keegan-blasts-inverted-snobbery-focus-10k-Rolex-watch.html?ito=1490&ns_campaign=1490&ns_mchannel=rss', 'https://www.dailymail.co.uk/news/article-11566013/Harvey-Proctor-demands-Keir-Starmer-apologise-nominating-Tom-Watson-peerage.html?ito=1490&ns_campaign=1490&ns_mchannel=rss', 'https://www.dailymail.co.uk/news/article-11566377/Rishi-Sunak-FINALLY-appoints-new-ethics-adviser-PM-gives-watchdog-role-Sir-Laurie-Magnus.html?ito=1490&ns_campaign=1490&ns_mchannel=rss', 'https://www.dailymail.co.uk/news/article-11649021/Let-eat-cake-Rishi-Sunak-slams-food-tsars-warning-office-treats.html?ito=1490&ns_campaign=1490&ns_mchannel=rss', 'https://www.dailymail.co.uk/news/article-11650063/HENDRY-DEEDES-says-Keir-Starmer-struggling-shed-image-Tim-Henman-politics.html?ito=1490&ns_campaign=1490&ns_mchannel=rss', 'https://www.dailymail.co.uk/news/article-11650545/Cut-taxes-Tories-lose-election-Jeremy-Hunt-warned.html?ito=1490&ns_campaign=1490&ns_mchannel=rss', 'https://www.dailymail.co.uk/news/article-11651245/Keir-Starmer-sides-Nicola-Sturgeon-Scottish-gender-law.html?ito=1490&ns_campaign=1490&ns_mchannel=rss', 'https://www.dailymail.co.uk/news/article-11651507/Tycoon-James-Dyson-fears-Britain-hampered-short-sighted-polices-discourage-growth.html?ito=1490&ns_campaign=1490&ns_mchannel=rss', 'https://www.dailymail.co.uk/news/article-11653647/Rishi-Sunak-suggests-idiots-expect-tax-cuts-Budget.html?ito=1490&ns_campaign=1490&ns_mchannel=rss', 'https://www.dailymail.co.uk/news/article-11654277/Rishi-Sunak-admits-error-failing-wear-seatbelt-nightmare-day.html?ito=1490&ns_campaign=1490&ns_mchannel=rss', 'https://www.dailymail.co.uk/news/article-11655465/Police-looking-Rishi-Sunak-not-wearing-seatbelt-filming-video-car.html?ito=1490&ns_campaign=1490&ns_mchannel=rss', 'https://www.dailymail.co.uk/news/article-11657325/Rishi-Sunak-faces-police-probe-failing-wear-seatbelt.html?ito=1490&ns_campaign=1490&ns_mchannel=rss', 'https://www.dailymail.co.uk/news/article-11690249/Sadiq-Khan-wants-extend-ULEZ-London-driving-white-van-men-road-3k-bills.html?ito=1490&ns_campaign=1490&ns_mchannel=rss', 'https://www.dailymail.co.uk/news/article-11690351/Sacked-Tory-chairman-Nadhim-Zahawi-aims-media-Rees-Mogg-pushes-Boris-Johnson-job.html?ito=1490&ns_campaign=1490&ns_mchannel=rss', 'https://www.dailymail.co.uk/news/article-11691585/Shamed-ex-minister-Nadhim-Zahawi-refuses-quietly-fired-tax-affairs.html?ito=1490&ns_campaign=1490&ns_mchannel=rss', 'https://www.dailymail.co.uk/news/article-11695545/UK-scores-WORST-score-global-corruption-report.html?ito=1490&ns_campaign=1490&ns_mchannel=rss', 'https://www.dailymail.co.uk/news/article-11700745/Controversial-comments-human-rights-lawyer-said-superficial-racial-trope.html?ito=1490&ns_campaign=1490&ns_mchannel=rss', 'https://www.dailymail.co.uk/news/article-11708931/Rail-strike-Chaos-passengers-train-drivers-reject-65-000-salary-offer.html?ito=1490&ns_campaign=1490&ns_mchannel=rss', 'https://www.dailymail.co.uk/news/article-11744945/Campaigners-slam-inedible-terrible-food-given-asylum-seekers-hotels.html?ito=1490&ns_campaign=1490&ns_mchannel=rss', 'https://www.dailymail.co.uk/news/article-11752853/Diddly-Squat-Jeremy-Clarksons-Amazon-Prime-series-shines-light-brutal-business-farming.html?ito=1490&ns_campaign=1490&ns_mchannel=rss', 'https://www.dailymail.co.uk/news/article-11754565/Nicola-Sturgeon-accused-overseeing-decade-decay-QUITS-Scotlands-Minister.html?ito=1490&ns_campaign=1490&ns_mchannel=rss', 'https://www.dailymail.co.uk/news/article-11755759/Defence-Secretary-Ben-Wallace-calls-funding-return-slamming-MoD-budget-raids-1991.html?ito=1490&ns_campaign=1490&ns_mchannel=rss', 'https://www.dailymail.co.uk/news/article-11756093/Western-Australia-bid-lure-30-000-British-doctors-nurses-police-teachers-Under.html?ito=1490&ns_campaign=1490&ns_mchannel=rss', 'https://www.dailymail.co.uk/news/article-11756109/No-signs-ET-Ben-Wallace-bursts-UFO-bubble-spy-balloon-hunts-Europe-America.html?ito=1490&ns_campaign=1490&ns_mchannel=rss', 'https://www.dailymail.co.uk/news/article-11756157/Rishi-Sunak-Microsoft-founder-Bill-Gates-hail-UK-firms-hoping-supercharge-green-economy.html?ito=1490&ns_campaign=1490&ns_mchannel=rss', 'https://www.dailymail.co.uk/news/article-11776013/Carol-Vorderman-takes-swipe-former-friend-Michelle-Mone.html?ito=1490&ns_campaign=1490&ns_mchannel=rss', 'https://www.dailymail.co.uk/news/article-11788667/665million-Crypto-firm-backed-MPs-Lords-ex-Premier-League-footballer-vanishes.html?ito=1490&ns_campaign=1490&ns_mchannel=rss', 'https://www.dailymail.co.uk/news/article-11793319/Chinese-spy-cameras-trained-British-Army-bases-security-lapses-MPs-demand-inquiry.html?ito=1490&ns_campaign=1490&ns_mchannel=rss', 'https://www.dailymail.co.uk/news/article-11804139/Rishi-Sunak-warns-Tory-critics-failure-Brexit-deal-lead-election-hammering.html?ito=1490&ns_campaign=1490&ns_mchannel=rss', 'https://www.dailymail.co.uk/news/article-11827373/Ministers-battle-Whitehall-Blob-Rishi-Sunaks-pledge-tackle-Channel-migrant-crisis.html?ito=1490&ns_campaign=1490&ns_mchannel=rss', 'https://www.dailymail.co.uk/news/article-11835701/Gary-Linekers-comments-views-BBC-pundit-said-now.html?ito=1490&ns_campaign=1490&ns_mchannel=rss', 'https://www.dailymail.co.uk/news/article-11837943/Government-use-delay-strategy-European-Court-Human-Rights-try-block-immigration-bill.html?ito=1490&ns_campaign=1490&ns_mchannel=rss', 'https://www.dailymail.co.uk/news/article-11845677/Gary-Lineker-air-Match-Day-presenters-Nazi-tweet-latest-history-comments.html?ito=1490&ns_campaign=1490&ns_mchannel=rss', 'https://www.dailymail.co.uk/news/article-11862377/What-time-2023-Budget-Jeremy-Hunt-announce-free-childcare-tax-cuts-energy-bills-help.html?ito=1490&ns_campaign=1490&ns_mchannel=rss', 'https://www.dailymail.co.uk/news/article-11876561/MAIL-SUNDAY-COMMENT-investment-vital-industry-never-mistake.html?ito=1490&ns_campaign=1490&ns_mchannel=rss', 'https://www.dailymail.co.uk/news/article-11876717/Prince-William-send-Prince-George-state-school-instead-Eton-says-Labour-MP-Clive-Lewis.html?ito=1490&ns_campaign=1490&ns_mchannel=rss', 'https://www.dailymail.co.uk/news/article-11880781/Private-firm-provides-accommodation-asylum-seekers-seen-profits-TREBLE.html?ito=1490&ns_campaign=1490&ns_mchannel=rss', 'https://www.dailymail.co.uk/news/article-11894365/Average-annual-council-tax-bill-2-000-time.html?ito=1490&ns_campaign=1490&ns_mchannel=rss', 'https://www.dailymail.co.uk/news/article-11898331/How-council-tax-going-by.html?ito=1490&ns_campaign=1490&ns_mchannel=rss', 'https://www.dailymail.co.uk/news/article-11899155/Where-expensive-cheapest-council-tax-England.html?ito=1490&ns_campaign=1490&ns_mchannel=rss', 'https://www.dailymail.co.uk/news/article-11913119/Future-bleak-historic-Royal-Mail-bosses-strike-ridden-service-threaten-pull-plug.html?ito=1490&ns_campaign=1490&ns_mchannel=rss', 'https://www.dailymail.co.uk/news/article-11913627/Fruit-flavoured-disposable-vapes-targeted-children-set-banned-ministers-launch-review.html?ito=1490&ns_campaign=1490&ns_mchannel=rss', 'https://www.dailymail.co.uk/news/article-11917497/Itll-fantastic-British-Challenger-2-tanks-Ukraine-beat-Vladimir-Putin.html?ito=1490&ns_campaign=1490&ns_mchannel=rss', 'https://www.dailymail.co.uk/news/article-11917835/DAILY-MAIL-COMMENT-Lack-trans-guidance-failing-schools.html?ito=1490&ns_campaign=1490&ns_mchannel=rss', 'https://www.dailymail.co.uk/news/article-11922207/Sir-Keir-Starmer-brands-Rishi-Sunak-Mr-One-Cent-despite-earner-himself.html?ito=1490&ns_campaign=1490&ns_mchannel=rss', 'https://www.dailymail.co.uk/news/article-11922415/Boost-review-sex-education-schools-confirmed-independent.html?ito=1490&ns_campaign=1490&ns_mchannel=rss', 'https://www.dailymail.co.uk/news/article-11922559/UK-signs-biggest-post-Brexit-trade-deal-Trans-Pacific-Partnership-adding-1-8bn-annual-GDP.html?ito=1490&ns_campaign=1490&ns_mchannel=rss', 'https://www.dailymail.co.uk/news/article-11926701/Electric-car-manufacturers-use-exaggerated-vehicle-ranges-publicity-study-reveals.html?ito=1490&ns_campaign=1490&ns_mchannel=rss', 'https://www.dailymail.co.uk/news/article-11928625/Suella-Braverman-vows-stamp-grooming-gangs-organised-child-sex-abuse.html?ito=1490&ns_campaign=1490&ns_mchannel=rss', 'https://www.dailymail.co.uk/news/article-11956017/Albanian-gangster-granted-anonymity-UK-protect-rivals.html?ito=1490&ns_campaign=1490&ns_mchannel=rss', 'https://www.dailymail.co.uk/news/article-11966459/MPs-call-junior-doctor-BMA-leader-sacked-went-HOLIDAY-NHS-strikes.html?ito=1490&ns_campaign=1490&ns_mchannel=rss', 'https://www.dailymail.co.uk/news/article-11970965/British-couple-slam-French-police-two-migrants-tried-stow-away-Britain.html?ito=1490&ns_campaign=1490&ns_mchannel=rss', 'https://www.dailymail.co.uk/news/article-11971321/Government-forced-delay-plans-make-households-pay-seven-waste-bins-backlash.html?ito=1490&ns_campaign=1490&ns_mchannel=rss', 'https://www.dailymail.co.uk/news/article-11974723/Children-young-14-told-transitioning-gender-stop-pupils-getting-bullied.html?ito=1490&ns_campaign=1490&ns_mchannel=rss', 'https://www.dailymail.co.uk/news/article-11977009/Labours-Wes-Streeting-reveals-personal-drive-mission-solve-Britains-health-crisis.html?ito=1490&ns_campaign=1490&ns_mchannel=rss', 'https://www.dailymail.co.uk/news/article-11986131/Is-deadly-algae-near-Interactive-map-shows-lakes-rivers-toxic-bacteria-rife.html?ito=1490&ns_campaign=1490&ns_mchannel=rss', 'https://www.dailymail.co.uk/news/article-12012703/Sajid-Javid-joins-100-business-leaders-call-return-tax-free-shopping-overseas-tourists.html?ito=1490&ns_campaign=1490&ns_mchannel=rss', 'https://www.dailymail.co.uk/news/article-12052651/Was-Sue-Gray-undercover-British-spy-ran-pub-heart-IRA-bandit-country.html?ito=1490&ns_campaign=1490&ns_mchannel=rss', 'https://www.dailymail.co.uk/news/article-12061025/Boris-Johnson-warned-Charles-sell-Duchy-speech-slavery.html?ito=1490&ns_campaign=1490&ns_mchannel=rss', 'https://www.dailymail.co.uk/news/article-12061533/Joanna-Cherry-gives-Fringe-venue-seven-day-ultimatum-cancelled-amid-gender-row.html?ito=1490&ns_campaign=1490&ns_mchannel=rss', 'https://www.dailymail.co.uk/news/article-12072615/Joe-Biden-says-Ireland-visit-ensure-UK-didnt-screw-Good-Friday-Agreement.html?ito=1490&ns_campaign=1490&ns_mchannel=rss', 'https://www.dailymail.co.uk/news/article-12078825/As-Tory-Boris-backers-group-holds-meeting-agenda-bashing-Rishi-Sunak.html?ito=1490&ns_campaign=1490&ns_mchannel=rss', 'https://www.dailymail.co.uk/news/article-12089239/Clarksons-Farm-star-Kaleb-Cooper-arrives-Downing-Street-food-leaders-Farm-Fork-summit.html?ito=1490&ns_campaign=1490&ns_mchannel=rss', 'https://www.dailymail.co.uk/news/article-12089453/Rishi-Sunak-dismisses-Nigel-Farages-claim-Brexit-failed.html?ito=1490&ns_campaign=1490&ns_mchannel=rss', 'https://www.dailymail.co.uk/news/article-12151651/Boris-Johnson-WhatsApp-Covid-row-explained.html?ito=1490&ns_campaign=1490&ns_mchannel=rss', 'https://www.dailymail.co.uk/news/article-12177771/Russia-Prisoner-Kremlin-critic-Vladimir-Kara-Murza-granted-honorary-Canadian-citizenship.html?ito=1490&ns_campaign=1490&ns_mchannel=rss', 'https://www.dailymail.co.uk/news/article-12206041/Bank-bosses-tell-Rishi-Sunak-social-media-firms-like-Meta-pay-online-fraud-battle.html?ito=1490&ns_campaign=1490&ns_mchannel=rss', 'https://www.dailymail.co.uk/news/article-12260441/China-offers-100k-help-leading-arrests-three-UK-based-human-rights-activists.html?ito=1490&ns_campaign=1490&ns_mchannel=rss', 'https://www.dailymail.co.uk/news/article-12264231/Tories-call-Boris-Johnson-Partygate-accuser-Bernard-Jenkin-resign-lockdown-party-probe.html?ito=1490&ns_campaign=1490&ns_mchannel=rss', 'https://www.dailymail.co.uk/news/article-12272903/Chemicals-tycoon-warns-UK-head-clouds-wind-power-ambitions.html?ito=1490&ns_campaign=1490&ns_mchannel=rss', 'https://www.dailymail.co.uk/news/article-12273111/Broken-electric-vehicles-need-quarantining-says-gov-driving-costs-mechanics-insurers.html?ito=1490&ns_campaign=1490&ns_mchannel=rss', 'https://www.dailymail.co.uk/news/article-12273179/Nearly-half-50s-quit-jobs-Covid-live-poverty-think-tank-finds.html?ito=1490&ns_campaign=1490&ns_mchannel=rss', 'https://www.dailymail.co.uk/news/article-12346279/Tory-Mayor-London-hopeful-Susan-Hall-says-ban-new-petrol-diesel-cars-not-going-happen.html?ito=1490&ns_campaign=1490&ns_mchannel=rss', 'https://www.dailymail.co.uk/news/article-12350195/Think-twice-imposing-Ulez-tax-hard-working-Brits-Rishi-Sunak-blasts-Sadiq-Khan-hated-low-emission-zone-expansion-plan.html?ito=1490&ns_campaign=1490&ns_mchannel=rss', 'https://www.dailymail.co.uk/news/article-12352705/Aberdeen-based-Paddington-rail-station-boss-earns-300-000-claims-10-000-year-expenses-FLY-different-UK-stations-train.html?ito=1490&ns_campaign=1490&ns_mchannel=rss', 'https://www.dailymail.co.uk/news/article-12374821/Legal-watchdog-set-enjoy-greater-powers-punish-rogue-lawyers-Mails-undercover-investigation-revealed-firms-offering-submit-false-asylum-claims-exchange-thousands-pounds.html?ito=1490&ns_campaign=1490&ns_mchannel=rss', 'https://www.dailymail.co.uk/news/article-12410691/Rishi-Sunak-accuses-Keir-Starmer-putting-women-girls-risk-U-turn-trans-self-identification.html?ito=1490&ns_campaign=1490&ns_mchannel=rss', 'https://www.dailymail.co.uk/news/article-12411099/DAILY-MAIL-COMMENT-2-5million-incapable-work.html?ito=1490&ns_campaign=1490&ns_mchannel=rss', 'https://www.dailymail.co.uk/news/article-12414927/The-SNP-captured-controlled-British-agents-claims-former-Nationalist-MSP-blames-spooks-partys-unpopular-policies.html?ito=1490&ns_campaign=1490&ns_mchannel=rss', 'https://www.dailymail.co.uk/news/article-12426739/FBI-didnt-investigate-Prince-Andrews-links-paedophile-Jeffrey-Epstein-hes-royal-lawyer-billionaire-sex-offenders-victims-claims-new-documentary.html?ito=1490&ns_campaign=1490&ns_mchannel=rss', 'https://www.dailymail.co.uk/news/article-12426803/Parents-babies-targeted-Lucy-Letby-brand-refusal-come-court-slap-face-DEMAND-MPs-change-law-stop-cowardly-offenders-hiding-sentenced.html?ito=1490&ns_campaign=1490&ns_mchannel=rss', 'https://www.dailymail.co.uk/news/article-12427863/Lucy-Letbys-sentencing-played-cell-refuses-attend-court-former-minister-says-killer-nurse-faces-life-order-victims-families-prepare-make-devastating-impact-statements.html?ito=1490&ns_campaign=1490&ns_mchannel=rss', 'https://www.dailymail.co.uk/news/article-12489015/Bankruptcy-Birmingham-blamed-Government-funding-cuts-leaked-internal-report-contradicts-attempts-Labour-blame-ministers-collapse-flagship-council.html?ito=1490&ns_campaign=1490&ns_mchannel=rss', 'https://www.dailymail.co.uk/news/article-12517279/Senior-Birmingham-Council-official-charge-overseeing-citys-school-taxi-drivers-worked-building-cab-firm-centre-11M-pay-probe-three-years-annual-profits-rose-1-900-1-6M.html?ito=1490&ns_campaign=1490&ns_mchannel=rss', 'https://www.dailymail.co.uk/news/article-12541291/Loophole-means-road-NEVER-fixed-Locals-left-wading-pothole-strewn-street-council-developer-refuse-repair.html?ito=1490&ns_campaign=1490&ns_mchannel=rss', 'https://www.dailymail.co.uk/news/article-12541297/Bankrupt-Birmingham-Council-spent-4-5million-online-tuition-unsupervised-home-study-expelled-children-30-000-pupil-annual-bill-nearly-twice-one-citys-expensive-private-schools.html?ito=1490&ns_campaign=1490&ns_mchannel=rss', 'https://www.dailymail.co.uk/news/article-12550939/Rishi-sunak-raise-smoking-age-ban.html?ito=1490&ns_campaign=1490&ns_mchannel=rss', 'https://www.dailymail.co.uk/news/article-12592151/Brighton-Labour-Council-beach-huts-tax-budget.html?ito=1490&ns_campaign=1490&ns_mchannel=rss', 'https://www.dailymail.co.uk/news/article-12605635/Warning-shortage-ADHD-medication-patients-reveal-try-dozens-pharmacies-hold-tablets-charity-compares-impact-removing-wheelchair-disabled-person.html?ito=1490&ns_campaign=1490&ns_mchannel=rss', 'https://www.dailymail.co.uk/news/article-12649599/Bankrupt-Birmingham-Council-faces-calls-explain-gaping-116MILLION-black-hole-school-taxi-spending-figures-Labour-authority-publish-audit-reports.html?ito=1490&ns_campaign=1490&ns_mchannel=rss', 'https://www.dailymail.co.uk/news/article-12664203/Michael-Gove-renters-reforms-no-fault-evictions-strengthen-tenants-Tory-Parliament.html?ito=1490&ns_campaign=1490&ns_mchannel=rss', 'https://www.dailymail.co.uk/news/article-12673517/Half-million-jobless-parents-benefits-face-30-hours-week-searching-work-overhaul-ministers.html?ito=1490&ns_campaign=1490&ns_mchannel=rss', 'https://www.dailymail.co.uk/news/article-12677851/Border-force-rescue-200-Britons-trapped-Gaza-Rishi-Sunak-Palestinians.html?ito=1490&ns_campaign=1490&ns_mchannel=rss', 'https://www.dailymail.co.uk/news/article-12684199/SIR-NIGEL-WILSON-Reducing-stamp-duty-older-people-want-downsize-free-houses-generation.html?ito=1490&ns_campaign=1490&ns_mchannel=rss', 'https://www.dailymail.co.uk/news/live/article-11438367/Budget-2022-latest-Autumn-Statement-Jeremy-Hunt-tax-rises.html?ito=1490&ns_campaign=1490&ns_mchannel=rss', 'https://www.dailymail.co.uk/news/live/article-11799175/BREXIT-DEAL-LIVE-latest-news-updates-Northern-Ireland-terms.html?ito=1490&ns_campaign=1490&ns_mchannel=rss', 'https://www.dailymail.co.uk/news/rishi-sunak/article-11712559/Rishi-Sunak-prepares-battle-courts-channel-migrant-plan.html?ito=1490&ns_campaign=1490&ns_mchannel=rss', 'https://www.dailymail.co.uk/property/article-11706479/Bank-Englands-rate-hike-Homeowners-tell-misery.html?ito=1490&ns_campaign=1490&ns_mchannel=rss', 'https://www.dailymail.co.uk/property/article-12093837/Leaseholders-slam-governments-decision-not-abolish-feudal-system.html?ito=1490&ns_campaign=1490&ns_mchannel=rss', 'https://www.dailymail.co.uk/travel/article-11922281/Trains-cost-239-FLYING-figures-reveal-families-prepare-Easter-getaways.html?ito=1490&ns_campaign=1490&ns_mchannel=rss', 'https://www.dailymail.co.uk/tvshowbiz/article-12132079/EMILY-PRESCOTT-Ex-Boris-aide-Gazelle-gets-little-ruffled-launch-bonkbuster.html?ito=1490&ns_campaign=1490&ns_mchannel=rss']\n"
     ]
    }
   ],
   "source": [
    "from trafilatura import feeds\n",
    "mylist = feeds.find_feed_urls('https://www.dailymail.co.uk/news/uk-politics/index.rss')\n",
    "\n",
    "print(mylist)"
   ],
   "metadata": {
    "collapsed": false,
    "ExecuteTime": {
     "end_time": "2023-10-30T15:34:48.507135Z",
     "start_time": "2023-10-30T15:34:47.709095Z"
    }
   },
   "id": "83f9ca63105ade79"
  },
  {
   "cell_type": "code",
   "execution_count": 8,
   "outputs": [
    {
     "data": {
      "text/plain": "\"FRANK FIELD: I battled Labour's bullying, deceitful hard-Left all my political career – until the day Momentum thugs forced me out of the party I'd devoted 60 years of my life to\\nMy father loathed me. I was conscious of this from my earliest days. In his eyes, I was a particularly difficult child. This was the basis of his persistent bullying of me, in which I never knew when I would be subjected to the next onslaught.\\nHis behaviour taught me much about the tyranny of arbitrary power, but also about how power could be lost. I was 15 when he came at me with a hammer. I took it from him and told him if he did it again, I would use it on him.\\nThe balance of power had changed. Before I acted, I'd had no idea I would prove to be the stronger, but I was. No more physical bullying.\\nThis experience stood me in good stead to oppose the bullying by the hard Left — the Trotskyist tendencies that took over the Birkenhead Labour Party, where I was MP in the early 1980s, and the bullying by Jeremy Corbyn's Momentum group decades later.\\nFor significant parts of my political life, the Labour Party was unelectable in Westminster. A main reason was the influence of Trotskyism and the hard Left. My activities against the Trotskyites became part of Labour's battle to regain the trust of the electorate.\\nUndermined: Former Labour MP Frank Field with ex-Labour leader Jeremy Corbyn in 2016\\nMy trials began in 1979 when I was elected as Labour MP for Birkenhead, the old shipbuilding town across the Mersey from Liverpool.\\nI was 37 and practically the whole of the local party was older than me, having grown old in the struggle for the New Jerusalem. They tried to live out a set of political ideas from which they expected to gain no personal honour.\\nBut there was a cuckoo in the nest, a lying, cheating, bullying cuckoo. The votes had barely been counted when I was warned by far-Left pressure group Militant that, if I didn't take their line, I'd be deselected before the next election.\\nWhat was the point of being an MP if I could only serve Birkenhead on their terms, rather than trying to interpret for myself what I believed to be best for my constituents?\\nA huge power struggle erupted once it became clear that I was not prepared to accept their diktat.\\nParty meetings became chaotic. Militant member after Militant member got up to tell shocking lies about me. Every new lie left me aghast. What sort of machine did they have to think up such a campaign?\\nI would regularly wake up at night, my heart thumping, as the next meeting approached. One morning, I was shaving when I found myself thinking about facing the Trots at our next meeting. Such was my fear that I vomited.\\nI looked into the mirror at my pathetic face, with sick all over my shaving cream. I said to myself that I could think of any number of excuses that would appear plausible for not appearing at that night's meeting. But if I so acted, I would be running away from such conflicts for the rest of my life. To the meeting I went.\\nMy battles with the hard Left continued throughout my years as a Labour MP, right up to the day I was ejected from the party to which I'd been devoted my entire adult life.\\nThe whole affair started oddly with me actually nominating the hard Left's Jeremy Corbyn as a candidate in the leadership contest to succeed Ed Miliband back in 2015. I would never have done so had I thought for a second that he would win, and this judgment was shared by those on the hard Left who reckoned their chances of success were nil.\\nBut I do believe that what the hard Left define as their socialist views have a place in the Labour Party.\\nI also firmly believe it is crucial for different sectors of the party to be able to contribute to its local and national debate, since that is where the nuance of democracy needs to be practised.\\nFrank Field outside the Houses of Parliament in Westminster\\nI wished the Corbynite views to play a part in the leadership contest — to help influence the outcome but not to dominate it. Sadly, once Corbyn was in power, the hard Left's total domination of the debate was served up as a form of party democracy.\\nI knew Jeremy. He had served on the Health and Social Services committee I chaired during the 1992-97 Parliament, but he had never actually spoken to me.\\nHe now came up to thank me for nominating him — talking to me for the first time ever, including all the committee sessions.\\nI was so surprised at being spoken to that my answer simply jumped out: 'I won't be voting for you.'\\n'I never expected you would,' came the equally quick reply.\\nThe election of party leader was on a 'one person, one vote' basis, something I had campaigned for. In adopting this reform, it was assumed the age-old rules aimed at protecting the Labour Party from extremist infiltration would continue to operate.\\nBut under Ed Miliband's leadership, the party made a fatal error that resulted in Corbyn being elected.\\nMiliband introduced a very cheap party membership which gave new members the right to help elect the next leader. Anyone could join, and some Tories openly did to vote for Corbyn, as this would be of most advantage to them.\\nBut so, too, did huge numbers of people with Trotskyite sympathies. The hard Left saw the unique opportunity this party reform offered them and acted ruthlessly.\\nLabour under Ed Miliband lowered the party's protective shield against those groups which historically had tried to destroy the Labour Party. Many of them piled into the Labour Party to vote for Corbyn — and he won.\\nThey soon came for me. In Birkenhead, a leading Momentum supporter accused me of attempting to undermine the National Minimum Wage policy — a typical untruth peddled in order to undermine the credibility of an elected Labour MP who would not bend to their agenda.\\nAt a local Labour Party meeting, I explained the history — I'd actually established the Low Pay Unit back in 1974 and we'd lobbied to gain a legally backed wage for all workers.\\nWalter Smith, our local party chair, son of a trade union leader and Labour to his core, came to my support, but later allegations were made to the police that he had physically assaulted a fellow Labour councillor at that meeting. He was questioned under caution.\\nThe caution had the most dramatic impact on him. He felt ashamed and two weeks later died of a massive heart attack, aged 82. Walter Smith was kind and full of goodness, never holding a grudge against anyone, as far as I could judge. In some instances, I thought he was too tolerant of the intolerance around us.\\nThe idea that this man could suffer a heart attack after a lifetime of service, without the National Labour Party lifting a finger to inquire as to the circumstances surrounding his death, appalled me.\\nA characteristic of totalitarianism has always been a complete disregard for individual life. A pattern of events was beginning to emerge that showed how the Corbyn Labour Party would behave if it ever formed a government.\\nAt a party, I complained to friends and supporters about the bullying behaviour to which party members were increasingly being subjected.\\nEvery attempt to restore civilised values had been knocked back by Labour Party bureaucracy, generally by ignoring each complaint and submission.\\nI pledged to resign the party whip if I failed to get the National Labour Party to adjudicate in what I saw as trumped-up charges against Walter.\\nTime and time again I requested specific action about Walter's case. None was forthcoming, not even a formal reply to any of my requests. Even when the Chief Whip sought action, nothing happened.\\nI was brought up sharp by the deep calamity and wretchedness the Labour Party had fallen into, with Corbyn cultivating a tolerance of the thuggery we were experiencing from Momentum activists.\\nIt had a familiar ring. I'd tried to forget the horror of Militant activists back in the early 1980s, but now those memories were snatched out of that far recess of my mind and replayed, this time with a Militant and Momentum line-up.\\nMomentum had joined forces with those from Militant who were still knocking around and had been welcomed back into the party by the leadership. Those malevolent events of lying, cheating, bullying and the like, which were the stuff of Militant politics, were now centre-stage and appealing to a wider membership that carried this hateful DNA.\\nThe National Labour Party was also harbouring anti-Semites. All too many of Jeremy Corbyn's past associations were with groupings who believed it was legitimate to use violence to achieve their political ends, including those committed to wiping Israel off the face of the map.\\nFor both these reasons, I resigned the Labour whip on August 30, 2018.\\nI did so because of the active protection of thugs by Corbyn's National Executive Committee (NEC), which had resulted in bullying behaviour becoming the norm against anyone deemed to be unsound on Corbyn, and because his Labour Party bent over backwards to harbour anti-Semites to such a degree that anti-Semitism had become part of Labour's DNA.\\nI saw the chief whip Nick Brown in his office, where he told me I had two weeks to reconsider and withdraw my resignation. If I didn't, I would cease to be a member of the Labour Party.\\nI gasped. I never thought for one moment I would lose my party membership. I never viewed resigning the whip as a capital offence. I had assured my friends that, should I fail to get an inquiry for Walter, I would nonetheless remain a Labour Party member, as I had been for very nearly six decades.\\nBrown showed me the Labour's rule book, which decreed that 'All Labour MPs shall be members of the Parliamentary Labour Party (PLP) and play their part in its work.'\\n'This doesn't apply to me, Nick,' I responded. I still saw myself as a Labour MP in every aspect of my work, while I continued to fight for justice against the thuggery in the Birkenhead Labour Party.\\n'I shall legally contest this ruling's applicability to me,' I kept muttering.\\nBut it did. A letter of execution headed with my Labour Party membership number of 60 years told me I was out of the party. It added that, now I was no longer a member, my complaints about the thuggish behaviour by Momentum members were no longer being considered.\\nLabour under Ed Miliband (pictured) lowered the party's protective shield against those groups which historically had tried to destroy the Labour Party\\nI stress this action as it suggests Labour Party bureaucrats believe either they are above the law or that no law applies to them. The Labour Party is a corporate body, and anyone, member or not, has a right to complain about its conduct.\\nBut for all my protests, that was me gone. In a two-line statement Corbyn thanked me for 60 years' membership — as though I had resigned from the local whist club for showing intermittent commitment during a probationary year's membership.\\nAt the next general election, I stood in Birkenhead as the Social Justice candidate but, despite a small bank of loyal supporters, I lost. The hard Left had bussed in people to work their campaign. One evening I went into a local pub and found a note from a group that was just leaving. It said: 'Up from Wokingham to get you.'\\nAnd so they did. My 7,000 votes were overwhelmed by the total for the official Labour candidate. I was out and Momentum and the hard Left were in.\\nWhy did I make all this fuss about my membership of the Labour Party once I had resigned from the party whip? Why did I involve myself in protracted warfare with Corbyn and his bureaucracy to overturn their arbitrary decision to expel me?\\nBecause from the day I joined, it wasn't the Labour Party organisation to which I was giving my loyalty. It was with the party's ideas, vision and direction of political travel that I wished to join forces. I still do.\\nFreedom from the exercise of arbitrary power has been both the simplest and strongest of all my drives. You could say I learned it at my father's knee that day he came at me with a hammer.\\n- Adapted from Politics, Poverty And Belief: A Political Memoir by The Rt Hon Frank Field (Bloomsbury, £20). © Frank Field 2023. To order a copy for £18 (offer valid to 04/03/23; UK P&P free on orders over £20), visit mailshop.co.uk/books or call 020 3176 2937.\\nThe comments below have not been moderated.\\nThe views expressed in the contents above are those of our users and do not necessarily reflect the views of MailOnline.\\nWe are no longer accepting comments on this article.\""
     },
     "execution_count": 8,
     "metadata": {},
     "output_type": "execute_result"
    }
   ],
   "source": [
    "downloaded = trafilatura.fetch_url(mylist[6])\n",
    "trafilatura.extract(downloaded)"
   ],
   "metadata": {
    "collapsed": false,
    "ExecuteTime": {
     "end_time": "2023-10-30T15:34:50.683454Z",
     "start_time": "2023-10-30T15:34:50.117728Z"
    }
   },
   "id": "cf44eccaf4fc6b04"
  },
  {
   "cell_type": "code",
   "execution_count": 9,
   "outputs": [],
   "source": [
    "downloaded = trafilatura.fetch_url('https://www.dailymail.co.uk/news/article-12350195/Think-twice-imposing-Ulez-tax-hard-working-Brits-Rishi-Sunak-blasts-Sadiq-Khan-hated-low-emission-zone-expansion-plan.html?ns_mchannel=rss&ns_campaign=1490&ito=1490')\n",
    "articleText = trafilatura.extract(downloaded)"
   ],
   "metadata": {
    "collapsed": false,
    "ExecuteTime": {
     "end_time": "2023-10-30T15:34:53.835068Z",
     "start_time": "2023-10-30T15:34:52.824954Z"
    }
   },
   "id": "67fec4cf3f288e54"
  },
  {
   "cell_type": "code",
   "execution_count": 10,
   "outputs": [
    {
     "name": "stderr",
     "output_type": "stream",
     "text": [
      "[nltk_data] Downloading package punkt to /Users/ameek/nltk_data...\n",
      "[nltk_data]   Package punkt is already up-to-date!\n"
     ]
    },
    {
     "data": {
      "text/plain": "True"
     },
     "execution_count": 10,
     "metadata": {},
     "output_type": "execute_result"
    }
   ],
   "source": [
    "import nltk\n",
    "\n",
    "# Download the NLTK Punkt tokenizer data if not already downloaded\n",
    "nltk.download('punkt')"
   ],
   "metadata": {
    "collapsed": false,
    "ExecuteTime": {
     "end_time": "2023-10-30T15:34:56.754209Z",
     "start_time": "2023-10-30T15:34:55.853323Z"
    }
   },
   "id": "cc420ab0e5538e9"
  },
  {
   "cell_type": "code",
   "execution_count": 11,
   "outputs": [
    {
     "name": "stdout",
     "output_type": "stream",
     "text": [
      "sentence:'Think twice before imposing Ulez tax on hard-working Brits': Rishi Sunak blasts Sadiq Khan for his hated low emission zone expansion plan\n",
      "- Keir Starmer told to 'get off the fence' over Sadiq Khan's Ulez by senior Tory MPs\n",
      "- Rishi Sunak led MPs asking Starmer to get London mayor to postpone the levy\n",
      "- READ MORE: Labour civil war over ULEZ intensifies after Khan's High Court win\n",
      "Keir Starmer faced fresh calls last night for him to try to delay the expansion of London's clean air zone.\n",
      "sentence:Senior Tories said he should 'get off the fence' and force the capital's mayor Sadiq Khan to protect motorists set to pay the Ulez levy.\n",
      "sentence:The High Court yesterday backed the extension of Ulez into outer London – a move that could lead to similar schemes elsewhere in Britain.\n",
      "sentence:Sir Keir has refused to say whether the zone should expand, claiming it is not a 'simple political decision'.\n",
      "sentence:He remained silent after yesterday's court ruling.\n",
      "sentence:Rishi Sunak last night led MPs and campaigners asking the Labour leader to make Mr Khan either postpone the £12.50 daily levy for older, more polluting vehicles or ditch it entirely.\n",
      "sentence:The zone expands on August 29.\n",
      "sentence:Keir Starmer (left) faced fresh calls last night for him to try to delay the expansion of London mayor Sadiq Khan's (right) Ulez\n",
      "Rishi Sunak (pictured) last night led MPs and campaigners asking the Labour leader to make Mr Khan either postpone the £12.50 daily levy for older, more polluting vehicles or ditch it\n",
      "The Prime Minister said: 'Sir Keir Starmer's mayor should think twice before choosing to press ahead with imposing this Ulez tax on hard-working people.\n",
      "sentence:READ MORE: Labour civil war over ULEZ intensifies as shadow health secretary says Starmer 'doesn't want expansion to happen' but Sadiq Khan vows to extend £12.50 daily charge from 29 August after High Court win\n",
      "It will mean ordinary people will have to pay £12.50 every time they take their kids to school, go to the doctors or to do their weekly food shop.\n",
      "sentence:And at a time of high inflation and cost of living that would be an incredibly unnecessary burden to inflict on hardworking families.'\n",
      "sentence:Mr Khan's plans, which will see nearly 700,000 cars across Greater London pay the daily charge, according to the RAC, have caused outrage among some families and tradesmen who rely on their vehicles.\n",
      "sentence:More than 1.5million people living outside London could also be affected by the expanded Ulez zone, data from the Driver and Vehicle Licensing Agency revealed this year.\n",
      "sentence:Responding to yesterday's ruling, Mr Khan insisted nine out of ten cars in outer London would not need to pay the charge, adding: 'The decision to expand the Ulez was very difficult and not something I took lightly and I continue to do everything possible to address any concerns Londoners may have.\n",
      "sentence:'This unambiguous decision today in the High Court allows us to press on with the difficult but vital task of cleaning up London's air and tackling the climate crisis.'\n",
      "sentence:Senior Labour figures blamed Ulez for their failure to win last week's by-election in Uxbridge, Boris Johnson's old seat in west London.\n",
      "sentence:Sir Keir said last weekend: 'We are doing something very wrong if policies put forward by the Labour party end up on each and every Tory leaflet.\n",
      "sentence:We've got to face up to that and learn the lessons.'\n",
      "sentence:But on Wednesday the Labour leader dodged a question on whether the Ulez extension should proceed, saying it was up to Mr Khan to decide whether to press on with the policy.\n",
      "sentence:Shadow Chancellor Rachel Reeves this week said it was 'not the right time' to expand Ulez in London.\n",
      "sentence:The party's health spokesman, Wes Streeting, told Times Radio: 'Keir has been very clear that he doesn't want it to go ahead at this stage, as has Rachel Reeves.\n",
      "sentence:'I would agree with them.\n",
      "sentence:But Sadiq is the mayor of London.\n",
      "sentence:He doesn't answer to us, he answers to Londoners.\n",
      "sentence:If you believe in devolution, you believe in his right to do that.\n",
      "sentence:We're going to have to take it on the chin.\n",
      "sentence:And he's going to take the criticism on the chin and we'll see what happens.'\n",
      "sentence:Energy Secretary Grant Shapps said the issue would show what type of leader Sir Keir was: 'Time to get off the fence and tell your mayor to do the right thing and stop the Ulez expansion.'\n",
      "sentence:'Ulez premium' on used cars\n",
      "Drivers buying used cars that will avoid daily fees from the planned expansion of London's ultra-low emission zone are being hit by a 'price penalty', analysis suggests.\n",
      "sentence:Auto Trader, an online marketplace, said some motorists were being charged over £3,000 more for Ulez-compliant vehicles compared with identical models only a year older that do not meet the emissions standards.\n",
      "sentence:To avoid the £12.50 daily fee for driving in the Ulez area, diesel cars must generally have been first registered after September 2015, while most petrol cars registered after 2005 are also exempt.\n",
      "sentence:Auto Trader said the biggest price gap across the UK involved a used Volkswagen Golf 2016 model being sold for £13,046 – £3,601 more than a 2015 non-compliant price of £9,445.\n",
      "sentence:The company's Ian Plummer said: 'Drivers are having to pay a price penalty to follow the rules.\n",
      "sentence:This doesn't need to be a case of pocket over planet, it is possible to achieve both.\n",
      "sentence:But it's vital we get the balance right between the carrots and the sticks.'\n",
      "sentence:Culture Secretary Lucy Frazer added: 'Sir Keir needs to do the right thing, and tell the Labour mayor to ditch his Ulez expansion.\n",
      "sentence:It will only punish hardworking Londoners.'\n",
      "sentence:Transport Secretary Mark Harper said it 'wasn't very clear that this delivers against emissions targets at all... this is about raising money – that is what people can see and that is what they object to'.\n",
      "sentence:He added: 'The expansion of Ulez to the whole of Greater London does not make sense and we are not in favour of it.'\n",
      "sentence:The High Court challenge, which was brought by the London boroughs of Bexley, Bromley, Harrow and Hillingdon along with Surrey County Council, was defeated on the grounds that Mr Khan's Ulez policy was an expansion.\n",
      "sentence:Mr Justice Swift said: 'I am satisfied that the mayor's decision to expand the Ulez area by amendment of the present road charging scheme, rather than by making an entirely new... scheme, was within his powers.'\n",
      "sentence:He said the consultation process gave enough information to produce informed responses.\n",
      "sentence:Responding to the ruling in a joint press release the five councils questioned whether Mr Khan had a 'moral right' to expand the scheme.\n",
      "sentence:Seven other areas have clean air zones that charge motorists in England: Bath, Birmingham, Bradford, Bristol, Portsmouth, Sheffield, and Newcastle and Gateshead.\n",
      "sentence:Labour mayor Andy Burnham is considering one in Manchester.\n",
      "sentence:In Scotland there is already a fully-operating low emissions zone in Glasgow, with similar schemes due to start in Edinburgh, Dundee and Aberdeen next year.\n",
      "sentence:Chris Clarkson, the Tory MP for Heywood and Middleton in Greater Manchester, said the court ruling had serious implications for motorists across England, especially in his constituency.\n",
      "sentence:Anti-ULEZ protestors demonstrate outside The Royal Courts of Justice ahead of the ruling on the expansion of London's clean air zone\n",
      "The AA urged Mr Khan to give drivers 'more time to react' to the change or reduce the impact on them, while the RAC called on the mayor to give additional support to key workers.\n",
      "sentence:But climate charity Possible described the judgment as 'fantastic', arguing that Ulez expansion was 'sorely needed to tackle our overreliance on cars and improve air quality'.\n",
      "sentence:From Monday, access to the mayor's £110million scheme which provides grants supporting the scrapping of non Ulez-compliant vehicles in London will be extended.\n",
      "sentence:It will now include all families in receipt of child benefit and every small business.\n",
      "sentence:The comments below have not been moderated.\n",
      "sentence:The views expressed in the contents above are those of our users and do not necessarily reflect the views of MailOnline.\n",
      "sentence:We are no longer accepting comments on this article.\n"
     ]
    },
    {
     "name": "stderr",
     "output_type": "stream",
     "text": [
      "[nltk_data] Downloading package punkt to /Users/ameek/nltk_data...\n",
      "[nltk_data]   Package punkt is already up-to-date!\n"
     ]
    }
   ],
   "source": [
    "from nltk.tokenize import sent_tokenize\n",
    "import nltk\n",
    "\n",
    "# Download the NLTK Punkt tokenizer data if not already downloaded\n",
    "nltk.download('punkt')\n",
    "\n",
    "from nltk.tokenize import sent_tokenize\n",
    "\n",
    "# Split the text into sentences\n",
    "sentences = sent_tokenize(articleText)\n",
    "\n",
    "# Print the sentences\n",
    "for sentence in sentences:\n",
    "    print(\"sentence:\" + sentence)\n"
   ],
   "metadata": {
    "collapsed": false,
    "ExecuteTime": {
     "end_time": "2023-10-30T15:34:59.343861Z",
     "start_time": "2023-10-30T15:34:59.330861Z"
    }
   },
   "id": "f2acf288845e49fa"
  },
  {
   "cell_type": "code",
   "execution_count": 12,
   "outputs": [
    {
     "name": "stdout",
     "output_type": "stream",
     "text": [
      "Requirement already satisfied: spacy-experimental in /Users/ameek/anaconda3/envs/ProjectProposal/lib/python3.8/site-packages (0.6.3)\r\n",
      "Requirement already satisfied: spacy<3.7.0,>=3.3.0 in /Users/ameek/anaconda3/envs/ProjectProposal/lib/python3.8/site-packages (from spacy-experimental) (3.6.1)\r\n",
      "Requirement already satisfied: spacy-legacy<3.1.0,>=3.0.11 in /Users/ameek/anaconda3/envs/ProjectProposal/lib/python3.8/site-packages (from spacy<3.7.0,>=3.3.0->spacy-experimental) (3.0.12)\r\n",
      "Requirement already satisfied: spacy-loggers<2.0.0,>=1.0.0 in /Users/ameek/anaconda3/envs/ProjectProposal/lib/python3.8/site-packages (from spacy<3.7.0,>=3.3.0->spacy-experimental) (1.0.5)\r\n",
      "Requirement already satisfied: murmurhash<1.1.0,>=0.28.0 in /Users/ameek/anaconda3/envs/ProjectProposal/lib/python3.8/site-packages (from spacy<3.7.0,>=3.3.0->spacy-experimental) (1.0.10)\r\n",
      "Requirement already satisfied: cymem<2.1.0,>=2.0.2 in /Users/ameek/anaconda3/envs/ProjectProposal/lib/python3.8/site-packages (from spacy<3.7.0,>=3.3.0->spacy-experimental) (2.0.8)\r\n",
      "Requirement already satisfied: preshed<3.1.0,>=3.0.2 in /Users/ameek/anaconda3/envs/ProjectProposal/lib/python3.8/site-packages (from spacy<3.7.0,>=3.3.0->spacy-experimental) (3.0.9)\r\n",
      "Requirement already satisfied: thinc<8.2.0,>=8.1.8 in /Users/ameek/anaconda3/envs/ProjectProposal/lib/python3.8/site-packages (from spacy<3.7.0,>=3.3.0->spacy-experimental) (8.1.12)\r\n",
      "Requirement already satisfied: wasabi<1.2.0,>=0.9.1 in /Users/ameek/anaconda3/envs/ProjectProposal/lib/python3.8/site-packages (from spacy<3.7.0,>=3.3.0->spacy-experimental) (0.10.1)\r\n",
      "Requirement already satisfied: srsly<3.0.0,>=2.4.3 in /Users/ameek/anaconda3/envs/ProjectProposal/lib/python3.8/site-packages (from spacy<3.7.0,>=3.3.0->spacy-experimental) (2.4.8)\r\n",
      "Requirement already satisfied: catalogue<2.1.0,>=2.0.6 in /Users/ameek/anaconda3/envs/ProjectProposal/lib/python3.8/site-packages (from spacy<3.7.0,>=3.3.0->spacy-experimental) (2.0.10)\r\n",
      "Requirement already satisfied: typer<0.10.0,>=0.3.0 in /Users/ameek/anaconda3/envs/ProjectProposal/lib/python3.8/site-packages (from spacy<3.7.0,>=3.3.0->spacy-experimental) (0.7.0)\r\n",
      "Requirement already satisfied: pathy>=0.10.0 in /Users/ameek/anaconda3/envs/ProjectProposal/lib/python3.8/site-packages (from spacy<3.7.0,>=3.3.0->spacy-experimental) (0.10.3)\r\n",
      "Requirement already satisfied: smart-open<7.0.0,>=5.2.1 in /Users/ameek/anaconda3/envs/ProjectProposal/lib/python3.8/site-packages (from spacy<3.7.0,>=3.3.0->spacy-experimental) (6.4.0)\r\n",
      "Requirement already satisfied: tqdm<5.0.0,>=4.38.0 in /Users/ameek/anaconda3/envs/ProjectProposal/lib/python3.8/site-packages (from spacy<3.7.0,>=3.3.0->spacy-experimental) (4.66.1)\r\n",
      "Requirement already satisfied: numpy>=1.15.0 in /Users/ameek/anaconda3/envs/ProjectProposal/lib/python3.8/site-packages (from spacy<3.7.0,>=3.3.0->spacy-experimental) (1.24.3)\r\n",
      "Requirement already satisfied: requests<3.0.0,>=2.13.0 in /Users/ameek/anaconda3/envs/ProjectProposal/lib/python3.8/site-packages (from spacy<3.7.0,>=3.3.0->spacy-experimental) (2.31.0)\r\n",
      "Requirement already satisfied: pydantic!=1.8,!=1.8.1,<3.0.0,>=1.7.4 in /Users/ameek/anaconda3/envs/ProjectProposal/lib/python3.8/site-packages (from spacy<3.7.0,>=3.3.0->spacy-experimental) (1.10.13)\r\n",
      "Requirement already satisfied: jinja2 in /Users/ameek/anaconda3/envs/ProjectProposal/lib/python3.8/site-packages (from spacy<3.7.0,>=3.3.0->spacy-experimental) (3.1.2)\r\n",
      "Requirement already satisfied: setuptools in /Users/ameek/anaconda3/envs/ProjectProposal/lib/python3.8/site-packages (from spacy<3.7.0,>=3.3.0->spacy-experimental) (68.0.0)\r\n",
      "Requirement already satisfied: packaging>=20.0 in /Users/ameek/anaconda3/envs/ProjectProposal/lib/python3.8/site-packages (from spacy<3.7.0,>=3.3.0->spacy-experimental) (23.1)\r\n",
      "Requirement already satisfied: langcodes<4.0.0,>=3.2.0 in /Users/ameek/anaconda3/envs/ProjectProposal/lib/python3.8/site-packages (from spacy<3.7.0,>=3.3.0->spacy-experimental) (3.3.0)\r\n",
      "Requirement already satisfied: typing-extensions>=4.2.0 in /Users/ameek/anaconda3/envs/ProjectProposal/lib/python3.8/site-packages (from pydantic!=1.8,!=1.8.1,<3.0.0,>=1.7.4->spacy<3.7.0,>=3.3.0->spacy-experimental) (4.7.1)\r\n",
      "Requirement already satisfied: charset-normalizer<4,>=2 in /Users/ameek/anaconda3/envs/ProjectProposal/lib/python3.8/site-packages (from requests<3.0.0,>=2.13.0->spacy<3.7.0,>=3.3.0->spacy-experimental) (3.3.1)\r\n",
      "Requirement already satisfied: idna<4,>=2.5 in /Users/ameek/anaconda3/envs/ProjectProposal/lib/python3.8/site-packages (from requests<3.0.0,>=2.13.0->spacy<3.7.0,>=3.3.0->spacy-experimental) (3.4)\r\n",
      "Requirement already satisfied: urllib3<3,>=1.21.1 in /Users/ameek/anaconda3/envs/ProjectProposal/lib/python3.8/site-packages (from requests<3.0.0,>=2.13.0->spacy<3.7.0,>=3.3.0->spacy-experimental) (1.26.16)\r\n",
      "Requirement already satisfied: certifi>=2017.4.17 in /Users/ameek/anaconda3/envs/ProjectProposal/lib/python3.8/site-packages (from requests<3.0.0,>=2.13.0->spacy<3.7.0,>=3.3.0->spacy-experimental) (2023.7.22)\r\n",
      "Requirement already satisfied: blis<0.8.0,>=0.7.8 in /Users/ameek/anaconda3/envs/ProjectProposal/lib/python3.8/site-packages (from thinc<8.2.0,>=8.1.8->spacy<3.7.0,>=3.3.0->spacy-experimental) (0.7.11)\r\n",
      "Requirement already satisfied: confection<1.0.0,>=0.0.1 in /Users/ameek/anaconda3/envs/ProjectProposal/lib/python3.8/site-packages (from thinc<8.2.0,>=8.1.8->spacy<3.7.0,>=3.3.0->spacy-experimental) (0.1.3)\r\n",
      "Requirement already satisfied: click<9.0.0,>=7.1.1 in /Users/ameek/anaconda3/envs/ProjectProposal/lib/python3.8/site-packages (from typer<0.10.0,>=0.3.0->spacy<3.7.0,>=3.3.0->spacy-experimental) (8.1.7)\r\n",
      "Requirement already satisfied: MarkupSafe>=2.0 in /Users/ameek/anaconda3/envs/ProjectProposal/lib/python3.8/site-packages (from jinja2->spacy<3.7.0,>=3.3.0->spacy-experimental) (2.1.1)\r\n"
     ]
    }
   ],
   "source": [
    "!pip install spacy-experimental"
   ],
   "metadata": {
    "collapsed": false,
    "ExecuteTime": {
     "end_time": "2023-10-30T15:35:08.725117Z",
     "start_time": "2023-10-30T15:35:06.275058Z"
    }
   },
   "id": "a6d37528df3eb54d"
  },
  {
   "cell_type": "code",
   "execution_count": 13,
   "outputs": [
    {
     "name": "stdout",
     "output_type": "stream",
     "text": [
      "Requirement already satisfied: transformers in /Users/ameek/anaconda3/envs/ProjectProposal/lib/python3.8/site-packages (4.25.1)\r\n",
      "Requirement already satisfied: filelock in /Users/ameek/anaconda3/envs/ProjectProposal/lib/python3.8/site-packages (from transformers) (3.12.4)\r\n",
      "Requirement already satisfied: huggingface-hub<1.0,>=0.10.0 in /Users/ameek/anaconda3/envs/ProjectProposal/lib/python3.8/site-packages (from transformers) (0.18.0)\r\n",
      "Requirement already satisfied: numpy>=1.17 in /Users/ameek/anaconda3/envs/ProjectProposal/lib/python3.8/site-packages (from transformers) (1.24.3)\r\n",
      "Requirement already satisfied: packaging>=20.0 in /Users/ameek/anaconda3/envs/ProjectProposal/lib/python3.8/site-packages (from transformers) (23.1)\r\n",
      "Requirement already satisfied: pyyaml>=5.1 in /Users/ameek/anaconda3/envs/ProjectProposal/lib/python3.8/site-packages (from transformers) (6.0.1)\r\n",
      "Requirement already satisfied: regex!=2019.12.17 in /Users/ameek/anaconda3/envs/ProjectProposal/lib/python3.8/site-packages (from transformers) (2023.10.3)\r\n",
      "Requirement already satisfied: requests in /Users/ameek/anaconda3/envs/ProjectProposal/lib/python3.8/site-packages (from transformers) (2.31.0)\r\n",
      "Requirement already satisfied: tokenizers!=0.11.3,<0.14,>=0.11.1 in /Users/ameek/anaconda3/envs/ProjectProposal/lib/python3.8/site-packages (from transformers) (0.13.3)\r\n",
      "Requirement already satisfied: tqdm>=4.27 in /Users/ameek/anaconda3/envs/ProjectProposal/lib/python3.8/site-packages (from transformers) (4.66.1)\r\n",
      "Requirement already satisfied: fsspec>=2023.5.0 in /Users/ameek/anaconda3/envs/ProjectProposal/lib/python3.8/site-packages (from huggingface-hub<1.0,>=0.10.0->transformers) (2023.10.0)\r\n",
      "Requirement already satisfied: typing-extensions>=3.7.4.3 in /Users/ameek/anaconda3/envs/ProjectProposal/lib/python3.8/site-packages (from huggingface-hub<1.0,>=0.10.0->transformers) (4.7.1)\r\n",
      "Requirement already satisfied: charset-normalizer<4,>=2 in /Users/ameek/anaconda3/envs/ProjectProposal/lib/python3.8/site-packages (from requests->transformers) (3.3.1)\r\n",
      "Requirement already satisfied: idna<4,>=2.5 in /Users/ameek/anaconda3/envs/ProjectProposal/lib/python3.8/site-packages (from requests->transformers) (3.4)\r\n",
      "Requirement already satisfied: urllib3<3,>=1.21.1 in /Users/ameek/anaconda3/envs/ProjectProposal/lib/python3.8/site-packages (from requests->transformers) (1.26.16)\r\n",
      "Requirement already satisfied: certifi>=2017.4.17 in /Users/ameek/anaconda3/envs/ProjectProposal/lib/python3.8/site-packages (from requests->transformers) (2023.7.22)\r\n"
     ]
    }
   ],
   "source": [
    "#!pip install https://github.com/explosion/spacy-experimental/releases/download/v0.6.1/en_coreference_web_trf-3.4.0a2-py3-none-any.whl\n",
    "!pip install transformers"
   ],
   "metadata": {
    "collapsed": false,
    "ExecuteTime": {
     "end_time": "2023-10-30T15:35:14.267670Z",
     "start_time": "2023-10-30T15:35:11.855626Z"
    }
   },
   "id": "5fee49c0153c3eda"
  },
  {
   "cell_type": "code",
   "execution_count": 14,
   "outputs": [
    {
     "name": "stderr",
     "output_type": "stream",
     "text": [
      "/Users/ameek/anaconda3/envs/ProjectProposal/lib/python3.8/site-packages/spacy/util.py:910: UserWarning: [W095] Model 'en_coreference_web_trf' (3.4.0a2) was trained with spaCy v3.3.0 and may not be 100% compatible with the current version (3.6.1). If you see errors or degraded performance, download a newer compatible model or retrain your custom model with the current spaCy version. For more details and available updates, run: python -m spacy validate\n",
      "  warnings.warn(warn_msg)\n"
     ]
    },
    {
     "name": "stdout",
     "output_type": "stream",
     "text": [
      "{'coref_clusters_1': [the dog, it], 'coref_clusters_2': [The cats, them]}\n"
     ]
    }
   ],
   "source": [
    "import spacy\n",
    "nlp = spacy.load(\"en_coreference_web_trf\")\n",
    "doc = nlp(\"The cats were startled by the dog as it growled at them.\") \n",
    "print(doc.spans)"
   ],
   "metadata": {
    "collapsed": false,
    "ExecuteTime": {
     "end_time": "2023-10-30T15:35:22.246288Z",
     "start_time": "2023-10-30T15:35:15.999846Z"
    }
   },
   "id": "9c9ba4ccaada257"
  },
  {
   "cell_type": "code",
   "execution_count": 15,
   "outputs": [
    {
     "ename": "KeyError",
     "evalue": "\"Parameter 'E' for model 'hashembed' has not been allocated yet.\"",
     "output_type": "error",
     "traceback": [
      "\u001B[0;31m---------------------------------------------------------------------------\u001B[0m",
      "\u001B[0;31mKeyError\u001B[0m                                  Traceback (most recent call last)",
      "Cell \u001B[0;32mIn[15], line 5\u001B[0m\n\u001B[1;32m      3\u001B[0m coref \u001B[38;5;241m=\u001B[39m nlp\u001B[38;5;241m.\u001B[39madd_pipe(\u001B[38;5;124m\"\u001B[39m\u001B[38;5;124mexperimental_coref\u001B[39m\u001B[38;5;124m\"\u001B[39m)\n\u001B[1;32m      4\u001B[0m \u001B[38;5;66;03m# This usually happens under the hood\u001B[39;00m\n\u001B[0;32m----> 5\u001B[0m processed \u001B[38;5;241m=\u001B[39m \u001B[43mcoref\u001B[49m\u001B[43m(\u001B[49m\u001B[43mdoc\u001B[49m\u001B[43m)\u001B[49m\n",
      "File \u001B[0;32m~/anaconda3/envs/ProjectProposal/lib/python3.8/site-packages/spacy/pipeline/trainable_pipe.pyx:56\u001B[0m, in \u001B[0;36mspacy.pipeline.trainable_pipe.TrainablePipe.__call__\u001B[0;34m()\u001B[0m\n",
      "File \u001B[0;32m~/anaconda3/envs/ProjectProposal/lib/python3.8/site-packages/spacy/util.py:1724\u001B[0m, in \u001B[0;36mraise_error\u001B[0;34m(proc_name, proc, docs, e)\u001B[0m\n\u001B[1;32m   1723\u001B[0m \u001B[38;5;28;01mdef\u001B[39;00m \u001B[38;5;21mraise_error\u001B[39m(proc_name, proc, docs, e):\n\u001B[0;32m-> 1724\u001B[0m     \u001B[38;5;28;01mraise\u001B[39;00m e\n",
      "File \u001B[0;32m~/anaconda3/envs/ProjectProposal/lib/python3.8/site-packages/spacy/pipeline/trainable_pipe.pyx:52\u001B[0m, in \u001B[0;36mspacy.pipeline.trainable_pipe.TrainablePipe.__call__\u001B[0;34m()\u001B[0m\n",
      "File \u001B[0;32m~/anaconda3/envs/ProjectProposal/lib/python3.8/site-packages/spacy_experimental/coref/coref_component.py:153\u001B[0m, in \u001B[0;36mCoreferenceResolver.predict\u001B[0;34m(self, docs)\u001B[0m\n\u001B[1;32m    150\u001B[0m     out\u001B[38;5;241m.\u001B[39mappend([])\n\u001B[1;32m    151\u001B[0m     \u001B[38;5;28;01mcontinue\u001B[39;00m\n\u001B[0;32m--> 153\u001B[0m scores, idxs \u001B[38;5;241m=\u001B[39m \u001B[38;5;28;43mself\u001B[39;49m\u001B[38;5;241;43m.\u001B[39;49m\u001B[43mmodel\u001B[49m\u001B[38;5;241;43m.\u001B[39;49m\u001B[43mpredict\u001B[49m\u001B[43m(\u001B[49m\u001B[43m[\u001B[49m\u001B[43mdoc\u001B[49m\u001B[43m]\u001B[49m\u001B[43m)\u001B[49m\n\u001B[1;32m    154\u001B[0m \u001B[38;5;66;03m# idxs is a list of mentions (start / end idxs)\u001B[39;00m\n\u001B[1;32m    155\u001B[0m \u001B[38;5;66;03m# each item in scores includes scores and a mapping from scores to mentions\u001B[39;00m\n\u001B[1;32m    156\u001B[0m ant_idxs \u001B[38;5;241m=\u001B[39m idxs\n",
      "File \u001B[0;32m~/anaconda3/envs/ProjectProposal/lib/python3.8/site-packages/thinc/model.py:334\u001B[0m, in \u001B[0;36mModel.predict\u001B[0;34m(self, X)\u001B[0m\n\u001B[1;32m    330\u001B[0m \u001B[38;5;28;01mdef\u001B[39;00m \u001B[38;5;21mpredict\u001B[39m(\u001B[38;5;28mself\u001B[39m, X: InT) \u001B[38;5;241m-\u001B[39m\u001B[38;5;241m>\u001B[39m OutT:\n\u001B[1;32m    331\u001B[0m \u001B[38;5;250m    \u001B[39m\u001B[38;5;124;03m\"\"\"Call the model's `forward` function with `is_train=False`, and return\u001B[39;00m\n\u001B[1;32m    332\u001B[0m \u001B[38;5;124;03m    only the output, instead of the `(output, callback)` tuple.\u001B[39;00m\n\u001B[1;32m    333\u001B[0m \u001B[38;5;124;03m    \"\"\"\u001B[39;00m\n\u001B[0;32m--> 334\u001B[0m     \u001B[38;5;28;01mreturn\u001B[39;00m \u001B[38;5;28;43mself\u001B[39;49m\u001B[38;5;241;43m.\u001B[39;49m\u001B[43m_func\u001B[49m\u001B[43m(\u001B[49m\u001B[38;5;28;43mself\u001B[39;49m\u001B[43m,\u001B[49m\u001B[43m \u001B[49m\u001B[43mX\u001B[49m\u001B[43m,\u001B[49m\u001B[43m \u001B[49m\u001B[43mis_train\u001B[49m\u001B[38;5;241;43m=\u001B[39;49m\u001B[38;5;28;43;01mFalse\u001B[39;49;00m\u001B[43m)\u001B[49m[\u001B[38;5;241m0\u001B[39m]\n",
      "File \u001B[0;32m~/anaconda3/envs/ProjectProposal/lib/python3.8/site-packages/thinc/layers/chain.py:54\u001B[0m, in \u001B[0;36mforward\u001B[0;34m(model, X, is_train)\u001B[0m\n\u001B[1;32m     52\u001B[0m callbacks \u001B[38;5;241m=\u001B[39m []\n\u001B[1;32m     53\u001B[0m \u001B[38;5;28;01mfor\u001B[39;00m layer \u001B[38;5;129;01min\u001B[39;00m model\u001B[38;5;241m.\u001B[39mlayers:\n\u001B[0;32m---> 54\u001B[0m     Y, inc_layer_grad \u001B[38;5;241m=\u001B[39m \u001B[43mlayer\u001B[49m\u001B[43m(\u001B[49m\u001B[43mX\u001B[49m\u001B[43m,\u001B[49m\u001B[43m \u001B[49m\u001B[43mis_train\u001B[49m\u001B[38;5;241;43m=\u001B[39;49m\u001B[43mis_train\u001B[49m\u001B[43m)\u001B[49m\n\u001B[1;32m     55\u001B[0m     callbacks\u001B[38;5;241m.\u001B[39mappend(inc_layer_grad)\n\u001B[1;32m     56\u001B[0m     X \u001B[38;5;241m=\u001B[39m Y\n",
      "File \u001B[0;32m~/anaconda3/envs/ProjectProposal/lib/python3.8/site-packages/thinc/model.py:310\u001B[0m, in \u001B[0;36mModel.__call__\u001B[0;34m(self, X, is_train)\u001B[0m\n\u001B[1;32m    307\u001B[0m \u001B[38;5;28;01mdef\u001B[39;00m \u001B[38;5;21m__call__\u001B[39m(\u001B[38;5;28mself\u001B[39m, X: InT, is_train: \u001B[38;5;28mbool\u001B[39m) \u001B[38;5;241m-\u001B[39m\u001B[38;5;241m>\u001B[39m Tuple[OutT, Callable]:\n\u001B[1;32m    308\u001B[0m \u001B[38;5;250m    \u001B[39m\u001B[38;5;124;03m\"\"\"Call the model's `forward` function, returning the output and a\u001B[39;00m\n\u001B[1;32m    309\u001B[0m \u001B[38;5;124;03m    callback to compute the gradients via backpropagation.\"\"\"\u001B[39;00m\n\u001B[0;32m--> 310\u001B[0m     \u001B[38;5;28;01mreturn\u001B[39;00m \u001B[38;5;28;43mself\u001B[39;49m\u001B[38;5;241;43m.\u001B[39;49m\u001B[43m_func\u001B[49m\u001B[43m(\u001B[49m\u001B[38;5;28;43mself\u001B[39;49m\u001B[43m,\u001B[49m\u001B[43m \u001B[49m\u001B[43mX\u001B[49m\u001B[43m,\u001B[49m\u001B[43m \u001B[49m\u001B[43mis_train\u001B[49m\u001B[38;5;241;43m=\u001B[39;49m\u001B[43mis_train\u001B[49m\u001B[43m)\u001B[49m\n",
      "File \u001B[0;32m~/anaconda3/envs/ProjectProposal/lib/python3.8/site-packages/thinc/layers/chain.py:54\u001B[0m, in \u001B[0;36mforward\u001B[0;34m(model, X, is_train)\u001B[0m\n\u001B[1;32m     52\u001B[0m callbacks \u001B[38;5;241m=\u001B[39m []\n\u001B[1;32m     53\u001B[0m \u001B[38;5;28;01mfor\u001B[39;00m layer \u001B[38;5;129;01min\u001B[39;00m model\u001B[38;5;241m.\u001B[39mlayers:\n\u001B[0;32m---> 54\u001B[0m     Y, inc_layer_grad \u001B[38;5;241m=\u001B[39m \u001B[43mlayer\u001B[49m\u001B[43m(\u001B[49m\u001B[43mX\u001B[49m\u001B[43m,\u001B[49m\u001B[43m \u001B[49m\u001B[43mis_train\u001B[49m\u001B[38;5;241;43m=\u001B[39;49m\u001B[43mis_train\u001B[49m\u001B[43m)\u001B[49m\n\u001B[1;32m     55\u001B[0m     callbacks\u001B[38;5;241m.\u001B[39mappend(inc_layer_grad)\n\u001B[1;32m     56\u001B[0m     X \u001B[38;5;241m=\u001B[39m Y\n",
      "File \u001B[0;32m~/anaconda3/envs/ProjectProposal/lib/python3.8/site-packages/thinc/model.py:310\u001B[0m, in \u001B[0;36mModel.__call__\u001B[0;34m(self, X, is_train)\u001B[0m\n\u001B[1;32m    307\u001B[0m \u001B[38;5;28;01mdef\u001B[39;00m \u001B[38;5;21m__call__\u001B[39m(\u001B[38;5;28mself\u001B[39m, X: InT, is_train: \u001B[38;5;28mbool\u001B[39m) \u001B[38;5;241m-\u001B[39m\u001B[38;5;241m>\u001B[39m Tuple[OutT, Callable]:\n\u001B[1;32m    308\u001B[0m \u001B[38;5;250m    \u001B[39m\u001B[38;5;124;03m\"\"\"Call the model's `forward` function, returning the output and a\u001B[39;00m\n\u001B[1;32m    309\u001B[0m \u001B[38;5;124;03m    callback to compute the gradients via backpropagation.\"\"\"\u001B[39;00m\n\u001B[0;32m--> 310\u001B[0m     \u001B[38;5;28;01mreturn\u001B[39;00m \u001B[38;5;28;43mself\u001B[39;49m\u001B[38;5;241;43m.\u001B[39;49m\u001B[43m_func\u001B[49m\u001B[43m(\u001B[49m\u001B[38;5;28;43mself\u001B[39;49m\u001B[43m,\u001B[49m\u001B[43m \u001B[49m\u001B[43mX\u001B[49m\u001B[43m,\u001B[49m\u001B[43m \u001B[49m\u001B[43mis_train\u001B[49m\u001B[38;5;241;43m=\u001B[39;49m\u001B[43mis_train\u001B[49m\u001B[43m)\u001B[49m\n",
      "File \u001B[0;32m~/anaconda3/envs/ProjectProposal/lib/python3.8/site-packages/thinc/layers/chain.py:54\u001B[0m, in \u001B[0;36mforward\u001B[0;34m(model, X, is_train)\u001B[0m\n\u001B[1;32m     52\u001B[0m callbacks \u001B[38;5;241m=\u001B[39m []\n\u001B[1;32m     53\u001B[0m \u001B[38;5;28;01mfor\u001B[39;00m layer \u001B[38;5;129;01min\u001B[39;00m model\u001B[38;5;241m.\u001B[39mlayers:\n\u001B[0;32m---> 54\u001B[0m     Y, inc_layer_grad \u001B[38;5;241m=\u001B[39m \u001B[43mlayer\u001B[49m\u001B[43m(\u001B[49m\u001B[43mX\u001B[49m\u001B[43m,\u001B[49m\u001B[43m \u001B[49m\u001B[43mis_train\u001B[49m\u001B[38;5;241;43m=\u001B[39;49m\u001B[43mis_train\u001B[49m\u001B[43m)\u001B[49m\n\u001B[1;32m     55\u001B[0m     callbacks\u001B[38;5;241m.\u001B[39mappend(inc_layer_grad)\n\u001B[1;32m     56\u001B[0m     X \u001B[38;5;241m=\u001B[39m Y\n",
      "File \u001B[0;32m~/anaconda3/envs/ProjectProposal/lib/python3.8/site-packages/thinc/model.py:310\u001B[0m, in \u001B[0;36mModel.__call__\u001B[0;34m(self, X, is_train)\u001B[0m\n\u001B[1;32m    307\u001B[0m \u001B[38;5;28;01mdef\u001B[39;00m \u001B[38;5;21m__call__\u001B[39m(\u001B[38;5;28mself\u001B[39m, X: InT, is_train: \u001B[38;5;28mbool\u001B[39m) \u001B[38;5;241m-\u001B[39m\u001B[38;5;241m>\u001B[39m Tuple[OutT, Callable]:\n\u001B[1;32m    308\u001B[0m \u001B[38;5;250m    \u001B[39m\u001B[38;5;124;03m\"\"\"Call the model's `forward` function, returning the output and a\u001B[39;00m\n\u001B[1;32m    309\u001B[0m \u001B[38;5;124;03m    callback to compute the gradients via backpropagation.\"\"\"\u001B[39;00m\n\u001B[0;32m--> 310\u001B[0m     \u001B[38;5;28;01mreturn\u001B[39;00m \u001B[38;5;28;43mself\u001B[39;49m\u001B[38;5;241;43m.\u001B[39;49m\u001B[43m_func\u001B[49m\u001B[43m(\u001B[49m\u001B[38;5;28;43mself\u001B[39;49m\u001B[43m,\u001B[49m\u001B[43m \u001B[49m\u001B[43mX\u001B[49m\u001B[43m,\u001B[49m\u001B[43m \u001B[49m\u001B[43mis_train\u001B[49m\u001B[38;5;241;43m=\u001B[39;49m\u001B[43mis_train\u001B[49m\u001B[43m)\u001B[49m\n",
      "File \u001B[0;32m~/anaconda3/envs/ProjectProposal/lib/python3.8/site-packages/thinc/layers/with_array.py:36\u001B[0m, in \u001B[0;36mforward\u001B[0;34m(model, Xseq, is_train)\u001B[0m\n\u001B[1;32m     32\u001B[0m \u001B[38;5;28;01mdef\u001B[39;00m \u001B[38;5;21mforward\u001B[39m(\n\u001B[1;32m     33\u001B[0m     model: Model[SeqT, SeqT], Xseq: SeqT, is_train: \u001B[38;5;28mbool\u001B[39m\n\u001B[1;32m     34\u001B[0m ) \u001B[38;5;241m-\u001B[39m\u001B[38;5;241m>\u001B[39m Tuple[SeqT, Callable]:\n\u001B[1;32m     35\u001B[0m     \u001B[38;5;28;01mif\u001B[39;00m \u001B[38;5;28misinstance\u001B[39m(Xseq, Ragged):\n\u001B[0;32m---> 36\u001B[0m         \u001B[38;5;28;01mreturn\u001B[39;00m cast(Tuple[SeqT, Callable], \u001B[43m_ragged_forward\u001B[49m\u001B[43m(\u001B[49m\u001B[43mmodel\u001B[49m\u001B[43m,\u001B[49m\u001B[43m \u001B[49m\u001B[43mXseq\u001B[49m\u001B[43m,\u001B[49m\u001B[43m \u001B[49m\u001B[43mis_train\u001B[49m\u001B[43m)\u001B[49m)\n\u001B[1;32m     37\u001B[0m     \u001B[38;5;28;01melif\u001B[39;00m \u001B[38;5;28misinstance\u001B[39m(Xseq, Padded):\n\u001B[1;32m     38\u001B[0m         \u001B[38;5;28;01mreturn\u001B[39;00m cast(Tuple[SeqT, Callable], _padded_forward(model, Xseq, is_train))\n",
      "File \u001B[0;32m~/anaconda3/envs/ProjectProposal/lib/python3.8/site-packages/thinc/layers/with_array.py:91\u001B[0m, in \u001B[0;36m_ragged_forward\u001B[0;34m(model, Xr, is_train)\u001B[0m\n\u001B[1;32m     87\u001B[0m \u001B[38;5;28;01mdef\u001B[39;00m \u001B[38;5;21m_ragged_forward\u001B[39m(\n\u001B[1;32m     88\u001B[0m     model: Model[SeqT, SeqT], Xr: Ragged, is_train: \u001B[38;5;28mbool\u001B[39m\n\u001B[1;32m     89\u001B[0m ) \u001B[38;5;241m-\u001B[39m\u001B[38;5;241m>\u001B[39m Tuple[Ragged, Callable]:\n\u001B[1;32m     90\u001B[0m     layer: Model[ArrayXd, ArrayXd] \u001B[38;5;241m=\u001B[39m model\u001B[38;5;241m.\u001B[39mlayers[\u001B[38;5;241m0\u001B[39m]\n\u001B[0;32m---> 91\u001B[0m     Y, get_dX \u001B[38;5;241m=\u001B[39m \u001B[43mlayer\u001B[49m\u001B[43m(\u001B[49m\u001B[43mXr\u001B[49m\u001B[38;5;241;43m.\u001B[39;49m\u001B[43mdataXd\u001B[49m\u001B[43m,\u001B[49m\u001B[43m \u001B[49m\u001B[43mis_train\u001B[49m\u001B[43m)\u001B[49m\n\u001B[1;32m     93\u001B[0m     \u001B[38;5;28;01mdef\u001B[39;00m \u001B[38;5;21mbackprop\u001B[39m(dYr: Ragged) \u001B[38;5;241m-\u001B[39m\u001B[38;5;241m>\u001B[39m Ragged:\n\u001B[1;32m     94\u001B[0m         \u001B[38;5;28;01mreturn\u001B[39;00m Ragged(get_dX(dYr\u001B[38;5;241m.\u001B[39mdataXd), dYr\u001B[38;5;241m.\u001B[39mlengths)\n",
      "File \u001B[0;32m~/anaconda3/envs/ProjectProposal/lib/python3.8/site-packages/thinc/model.py:310\u001B[0m, in \u001B[0;36mModel.__call__\u001B[0;34m(self, X, is_train)\u001B[0m\n\u001B[1;32m    307\u001B[0m \u001B[38;5;28;01mdef\u001B[39;00m \u001B[38;5;21m__call__\u001B[39m(\u001B[38;5;28mself\u001B[39m, X: InT, is_train: \u001B[38;5;28mbool\u001B[39m) \u001B[38;5;241m-\u001B[39m\u001B[38;5;241m>\u001B[39m Tuple[OutT, Callable]:\n\u001B[1;32m    308\u001B[0m \u001B[38;5;250m    \u001B[39m\u001B[38;5;124;03m\"\"\"Call the model's `forward` function, returning the output and a\u001B[39;00m\n\u001B[1;32m    309\u001B[0m \u001B[38;5;124;03m    callback to compute the gradients via backpropagation.\"\"\"\u001B[39;00m\n\u001B[0;32m--> 310\u001B[0m     \u001B[38;5;28;01mreturn\u001B[39;00m \u001B[38;5;28;43mself\u001B[39;49m\u001B[38;5;241;43m.\u001B[39;49m\u001B[43m_func\u001B[49m\u001B[43m(\u001B[49m\u001B[38;5;28;43mself\u001B[39;49m\u001B[43m,\u001B[49m\u001B[43m \u001B[49m\u001B[43mX\u001B[49m\u001B[43m,\u001B[49m\u001B[43m \u001B[49m\u001B[43mis_train\u001B[49m\u001B[38;5;241;43m=\u001B[39;49m\u001B[43mis_train\u001B[49m\u001B[43m)\u001B[49m\n",
      "File \u001B[0;32m~/anaconda3/envs/ProjectProposal/lib/python3.8/site-packages/thinc/layers/concatenate.py:57\u001B[0m, in \u001B[0;36mforward\u001B[0;34m(model, X, is_train)\u001B[0m\n\u001B[1;32m     56\u001B[0m \u001B[38;5;28;01mdef\u001B[39;00m \u001B[38;5;21mforward\u001B[39m(model: Model[InT, OutT], X: InT, is_train: \u001B[38;5;28mbool\u001B[39m) \u001B[38;5;241m-\u001B[39m\u001B[38;5;241m>\u001B[39m Tuple[OutT, Callable]:\n\u001B[0;32m---> 57\u001B[0m     Ys, callbacks \u001B[38;5;241m=\u001B[39m \u001B[38;5;28mzip\u001B[39m(\u001B[38;5;241m*\u001B[39m[layer(X, is_train\u001B[38;5;241m=\u001B[39mis_train) \u001B[38;5;28;01mfor\u001B[39;00m layer \u001B[38;5;129;01min\u001B[39;00m model\u001B[38;5;241m.\u001B[39mlayers])\n\u001B[1;32m     58\u001B[0m     \u001B[38;5;28;01mif\u001B[39;00m \u001B[38;5;28misinstance\u001B[39m(Ys[\u001B[38;5;241m0\u001B[39m], \u001B[38;5;28mlist\u001B[39m):\n\u001B[1;32m     59\u001B[0m         data_l, backprop \u001B[38;5;241m=\u001B[39m _list_forward(model, X, Ys, callbacks, is_train)\n",
      "File \u001B[0;32m~/anaconda3/envs/ProjectProposal/lib/python3.8/site-packages/thinc/layers/concatenate.py:57\u001B[0m, in \u001B[0;36m<listcomp>\u001B[0;34m(.0)\u001B[0m\n\u001B[1;32m     56\u001B[0m \u001B[38;5;28;01mdef\u001B[39;00m \u001B[38;5;21mforward\u001B[39m(model: Model[InT, OutT], X: InT, is_train: \u001B[38;5;28mbool\u001B[39m) \u001B[38;5;241m-\u001B[39m\u001B[38;5;241m>\u001B[39m Tuple[OutT, Callable]:\n\u001B[0;32m---> 57\u001B[0m     Ys, callbacks \u001B[38;5;241m=\u001B[39m \u001B[38;5;28mzip\u001B[39m(\u001B[38;5;241m*\u001B[39m[\u001B[43mlayer\u001B[49m\u001B[43m(\u001B[49m\u001B[43mX\u001B[49m\u001B[43m,\u001B[49m\u001B[43m \u001B[49m\u001B[43mis_train\u001B[49m\u001B[38;5;241;43m=\u001B[39;49m\u001B[43mis_train\u001B[49m\u001B[43m)\u001B[49m \u001B[38;5;28;01mfor\u001B[39;00m layer \u001B[38;5;129;01min\u001B[39;00m model\u001B[38;5;241m.\u001B[39mlayers])\n\u001B[1;32m     58\u001B[0m     \u001B[38;5;28;01mif\u001B[39;00m \u001B[38;5;28misinstance\u001B[39m(Ys[\u001B[38;5;241m0\u001B[39m], \u001B[38;5;28mlist\u001B[39m):\n\u001B[1;32m     59\u001B[0m         data_l, backprop \u001B[38;5;241m=\u001B[39m _list_forward(model, X, Ys, callbacks, is_train)\n",
      "File \u001B[0;32m~/anaconda3/envs/ProjectProposal/lib/python3.8/site-packages/thinc/model.py:310\u001B[0m, in \u001B[0;36mModel.__call__\u001B[0;34m(self, X, is_train)\u001B[0m\n\u001B[1;32m    307\u001B[0m \u001B[38;5;28;01mdef\u001B[39;00m \u001B[38;5;21m__call__\u001B[39m(\u001B[38;5;28mself\u001B[39m, X: InT, is_train: \u001B[38;5;28mbool\u001B[39m) \u001B[38;5;241m-\u001B[39m\u001B[38;5;241m>\u001B[39m Tuple[OutT, Callable]:\n\u001B[1;32m    308\u001B[0m \u001B[38;5;250m    \u001B[39m\u001B[38;5;124;03m\"\"\"Call the model's `forward` function, returning the output and a\u001B[39;00m\n\u001B[1;32m    309\u001B[0m \u001B[38;5;124;03m    callback to compute the gradients via backpropagation.\"\"\"\u001B[39;00m\n\u001B[0;32m--> 310\u001B[0m     \u001B[38;5;28;01mreturn\u001B[39;00m \u001B[38;5;28;43mself\u001B[39;49m\u001B[38;5;241;43m.\u001B[39;49m\u001B[43m_func\u001B[49m\u001B[43m(\u001B[49m\u001B[38;5;28;43mself\u001B[39;49m\u001B[43m,\u001B[49m\u001B[43m \u001B[49m\u001B[43mX\u001B[49m\u001B[43m,\u001B[49m\u001B[43m \u001B[49m\u001B[43mis_train\u001B[49m\u001B[38;5;241;43m=\u001B[39;49m\u001B[43mis_train\u001B[49m\u001B[43m)\u001B[49m\n",
      "File \u001B[0;32m~/anaconda3/envs/ProjectProposal/lib/python3.8/site-packages/thinc/layers/chain.py:54\u001B[0m, in \u001B[0;36mforward\u001B[0;34m(model, X, is_train)\u001B[0m\n\u001B[1;32m     52\u001B[0m callbacks \u001B[38;5;241m=\u001B[39m []\n\u001B[1;32m     53\u001B[0m \u001B[38;5;28;01mfor\u001B[39;00m layer \u001B[38;5;129;01min\u001B[39;00m model\u001B[38;5;241m.\u001B[39mlayers:\n\u001B[0;32m---> 54\u001B[0m     Y, inc_layer_grad \u001B[38;5;241m=\u001B[39m \u001B[43mlayer\u001B[49m\u001B[43m(\u001B[49m\u001B[43mX\u001B[49m\u001B[43m,\u001B[49m\u001B[43m \u001B[49m\u001B[43mis_train\u001B[49m\u001B[38;5;241;43m=\u001B[39;49m\u001B[43mis_train\u001B[49m\u001B[43m)\u001B[49m\n\u001B[1;32m     55\u001B[0m     callbacks\u001B[38;5;241m.\u001B[39mappend(inc_layer_grad)\n\u001B[1;32m     56\u001B[0m     X \u001B[38;5;241m=\u001B[39m Y\n",
      "File \u001B[0;32m~/anaconda3/envs/ProjectProposal/lib/python3.8/site-packages/thinc/model.py:310\u001B[0m, in \u001B[0;36mModel.__call__\u001B[0;34m(self, X, is_train)\u001B[0m\n\u001B[1;32m    307\u001B[0m \u001B[38;5;28;01mdef\u001B[39;00m \u001B[38;5;21m__call__\u001B[39m(\u001B[38;5;28mself\u001B[39m, X: InT, is_train: \u001B[38;5;28mbool\u001B[39m) \u001B[38;5;241m-\u001B[39m\u001B[38;5;241m>\u001B[39m Tuple[OutT, Callable]:\n\u001B[1;32m    308\u001B[0m \u001B[38;5;250m    \u001B[39m\u001B[38;5;124;03m\"\"\"Call the model's `forward` function, returning the output and a\u001B[39;00m\n\u001B[1;32m    309\u001B[0m \u001B[38;5;124;03m    callback to compute the gradients via backpropagation.\"\"\"\u001B[39;00m\n\u001B[0;32m--> 310\u001B[0m     \u001B[38;5;28;01mreturn\u001B[39;00m \u001B[38;5;28;43mself\u001B[39;49m\u001B[38;5;241;43m.\u001B[39;49m\u001B[43m_func\u001B[49m\u001B[43m(\u001B[49m\u001B[38;5;28;43mself\u001B[39;49m\u001B[43m,\u001B[49m\u001B[43m \u001B[49m\u001B[43mX\u001B[49m\u001B[43m,\u001B[49m\u001B[43m \u001B[49m\u001B[43mis_train\u001B[49m\u001B[38;5;241;43m=\u001B[39;49m\u001B[43mis_train\u001B[49m\u001B[43m)\u001B[49m\n",
      "File \u001B[0;32m~/anaconda3/envs/ProjectProposal/lib/python3.8/site-packages/thinc/layers/hashembed.py:62\u001B[0m, in \u001B[0;36mforward\u001B[0;34m(model, ids, is_train)\u001B[0m\n\u001B[1;32m     59\u001B[0m \u001B[38;5;28;01mdef\u001B[39;00m \u001B[38;5;21mforward\u001B[39m(\n\u001B[1;32m     60\u001B[0m     model: Model[Ints1d, OutT], ids: Ints1d, is_train: \u001B[38;5;28mbool\u001B[39m\n\u001B[1;32m     61\u001B[0m ) \u001B[38;5;241m-\u001B[39m\u001B[38;5;241m>\u001B[39m Tuple[OutT, Callable]:\n\u001B[0;32m---> 62\u001B[0m     vectors \u001B[38;5;241m=\u001B[39m cast(Floats2d, \u001B[43mmodel\u001B[49m\u001B[38;5;241;43m.\u001B[39;49m\u001B[43mget_param\u001B[49m\u001B[43m(\u001B[49m\u001B[38;5;124;43m\"\u001B[39;49m\u001B[38;5;124;43mE\u001B[39;49m\u001B[38;5;124;43m\"\u001B[39;49m\u001B[43m)\u001B[49m)\n\u001B[1;32m     63\u001B[0m     nV \u001B[38;5;241m=\u001B[39m vectors\u001B[38;5;241m.\u001B[39mshape[\u001B[38;5;241m0\u001B[39m]\n\u001B[1;32m     64\u001B[0m     nO \u001B[38;5;241m=\u001B[39m vectors\u001B[38;5;241m.\u001B[39mshape[\u001B[38;5;241m1\u001B[39m]\n",
      "File \u001B[0;32m~/anaconda3/envs/ProjectProposal/lib/python3.8/site-packages/thinc/model.py:235\u001B[0m, in \u001B[0;36mModel.get_param\u001B[0;34m(self, name)\u001B[0m\n\u001B[1;32m    233\u001B[0m     \u001B[38;5;28;01mraise\u001B[39;00m \u001B[38;5;167;01mKeyError\u001B[39;00m(\u001B[38;5;124mf\u001B[39m\u001B[38;5;124m\"\u001B[39m\u001B[38;5;124mUnknown param: \u001B[39m\u001B[38;5;124m'\u001B[39m\u001B[38;5;132;01m{\u001B[39;00mname\u001B[38;5;132;01m}\u001B[39;00m\u001B[38;5;124m'\u001B[39m\u001B[38;5;124m for model \u001B[39m\u001B[38;5;124m'\u001B[39m\u001B[38;5;132;01m{\u001B[39;00m\u001B[38;5;28mself\u001B[39m\u001B[38;5;241m.\u001B[39mname\u001B[38;5;132;01m}\u001B[39;00m\u001B[38;5;124m'\u001B[39m\u001B[38;5;124m.\u001B[39m\u001B[38;5;124m\"\u001B[39m)\n\u001B[1;32m    234\u001B[0m \u001B[38;5;28;01mif\u001B[39;00m \u001B[38;5;129;01mnot\u001B[39;00m \u001B[38;5;28mself\u001B[39m\u001B[38;5;241m.\u001B[39m_params\u001B[38;5;241m.\u001B[39mhas_param(\u001B[38;5;28mself\u001B[39m\u001B[38;5;241m.\u001B[39mid, name):\n\u001B[0;32m--> 235\u001B[0m     \u001B[38;5;28;01mraise\u001B[39;00m \u001B[38;5;167;01mKeyError\u001B[39;00m(\n\u001B[1;32m    236\u001B[0m         \u001B[38;5;124mf\u001B[39m\u001B[38;5;124m\"\u001B[39m\u001B[38;5;124mParameter \u001B[39m\u001B[38;5;124m'\u001B[39m\u001B[38;5;132;01m{\u001B[39;00mname\u001B[38;5;132;01m}\u001B[39;00m\u001B[38;5;124m'\u001B[39m\u001B[38;5;124m for model \u001B[39m\u001B[38;5;124m'\u001B[39m\u001B[38;5;132;01m{\u001B[39;00m\u001B[38;5;28mself\u001B[39m\u001B[38;5;241m.\u001B[39mname\u001B[38;5;132;01m}\u001B[39;00m\u001B[38;5;124m'\u001B[39m\u001B[38;5;124m has not been allocated yet.\u001B[39m\u001B[38;5;124m\"\u001B[39m\n\u001B[1;32m    237\u001B[0m     )\n\u001B[1;32m    238\u001B[0m \u001B[38;5;28;01mreturn\u001B[39;00m \u001B[38;5;28mself\u001B[39m\u001B[38;5;241m.\u001B[39m_params\u001B[38;5;241m.\u001B[39mget_param(\u001B[38;5;28mself\u001B[39m\u001B[38;5;241m.\u001B[39mid, name)\n",
      "\u001B[0;31mKeyError\u001B[0m: \"Parameter 'E' for model 'hashembed' has not been allocated yet.\""
     ]
    }
   ],
   "source": [
    "import spacy\n",
    "doc = nlp(\"This is a sentence.\")\n",
    "coref = nlp.add_pipe(\"experimental_coref\")\n",
    "# This usually happens under the hood\n",
    "processed = coref(doc)"
   ],
   "metadata": {
    "collapsed": false,
    "ExecuteTime": {
     "end_time": "2023-10-30T15:35:22.961099Z",
     "start_time": "2023-10-30T15:35:22.245494Z"
    }
   },
   "id": "eef24539704e7b6d"
  },
  {
   "cell_type": "code",
   "execution_count": 16,
   "outputs": [
    {
     "name": "stdout",
     "output_type": "stream",
     "text": [
      "huggingface/tokenizers: The current process just got forked, after parallelism has already been used. Disabling parallelism to avoid deadlocks...\n",
      "To disable this warning, you can either:\n",
      "\t- Avoid using `tokenizers` before the fork if possible\n",
      "\t- Explicitly set the environment variable TOKENIZERS_PARALLELISM=(true | false)\n",
      "Requirement already satisfied: fastcoref in /Users/ameek/anaconda3/envs/ProjectProposal/lib/python3.8/site-packages (2.1.6)\r\n",
      "Requirement already satisfied: tqdm>=4.64.0 in /Users/ameek/anaconda3/envs/ProjectProposal/lib/python3.8/site-packages (from fastcoref) (4.66.1)\r\n",
      "Requirement already satisfied: numpy>=1.21.6 in /Users/ameek/anaconda3/envs/ProjectProposal/lib/python3.8/site-packages (from fastcoref) (1.24.3)\r\n",
      "Requirement already satisfied: scipy>=1.7.3 in /Users/ameek/anaconda3/envs/ProjectProposal/lib/python3.8/site-packages (from fastcoref) (1.10.1)\r\n",
      "Requirement already satisfied: spacy>=3.0.6 in /Users/ameek/anaconda3/envs/ProjectProposal/lib/python3.8/site-packages (from fastcoref) (3.6.1)\r\n",
      "Requirement already satisfied: torch>=1.10.0 in /Users/ameek/anaconda3/envs/ProjectProposal/lib/python3.8/site-packages (from fastcoref) (2.1.0)\r\n",
      "Requirement already satisfied: transformers>=4.11.3 in /Users/ameek/anaconda3/envs/ProjectProposal/lib/python3.8/site-packages (from fastcoref) (4.25.1)\r\n",
      "Requirement already satisfied: datasets>=2.5.2 in /Users/ameek/anaconda3/envs/ProjectProposal/lib/python3.8/site-packages (from fastcoref) (2.14.6)\r\n",
      "Requirement already satisfied: pyarrow>=8.0.0 in /Users/ameek/anaconda3/envs/ProjectProposal/lib/python3.8/site-packages (from datasets>=2.5.2->fastcoref) (13.0.0)\r\n",
      "Requirement already satisfied: dill<0.3.8,>=0.3.0 in /Users/ameek/anaconda3/envs/ProjectProposal/lib/python3.8/site-packages (from datasets>=2.5.2->fastcoref) (0.3.7)\r\n",
      "Requirement already satisfied: pandas in /Users/ameek/anaconda3/envs/ProjectProposal/lib/python3.8/site-packages (from datasets>=2.5.2->fastcoref) (2.0.3)\r\n",
      "Requirement already satisfied: requests>=2.19.0 in /Users/ameek/anaconda3/envs/ProjectProposal/lib/python3.8/site-packages (from datasets>=2.5.2->fastcoref) (2.31.0)\r\n",
      "Requirement already satisfied: xxhash in /Users/ameek/anaconda3/envs/ProjectProposal/lib/python3.8/site-packages (from datasets>=2.5.2->fastcoref) (3.4.1)\r\n",
      "Requirement already satisfied: multiprocess in /Users/ameek/anaconda3/envs/ProjectProposal/lib/python3.8/site-packages (from datasets>=2.5.2->fastcoref) (0.70.15)\r\n",
      "Requirement already satisfied: fsspec<=2023.10.0,>=2023.1.0 in /Users/ameek/anaconda3/envs/ProjectProposal/lib/python3.8/site-packages (from fsspec[http]<=2023.10.0,>=2023.1.0->datasets>=2.5.2->fastcoref) (2023.10.0)\r\n",
      "Requirement already satisfied: aiohttp in /Users/ameek/anaconda3/envs/ProjectProposal/lib/python3.8/site-packages (from datasets>=2.5.2->fastcoref) (3.8.6)\r\n",
      "Requirement already satisfied: huggingface-hub<1.0.0,>=0.14.0 in /Users/ameek/anaconda3/envs/ProjectProposal/lib/python3.8/site-packages (from datasets>=2.5.2->fastcoref) (0.18.0)\r\n",
      "Requirement already satisfied: packaging in /Users/ameek/anaconda3/envs/ProjectProposal/lib/python3.8/site-packages (from datasets>=2.5.2->fastcoref) (23.1)\r\n",
      "Requirement already satisfied: pyyaml>=5.1 in /Users/ameek/anaconda3/envs/ProjectProposal/lib/python3.8/site-packages (from datasets>=2.5.2->fastcoref) (6.0.1)\r\n",
      "Requirement already satisfied: spacy-legacy<3.1.0,>=3.0.11 in /Users/ameek/anaconda3/envs/ProjectProposal/lib/python3.8/site-packages (from spacy>=3.0.6->fastcoref) (3.0.12)\r\n",
      "Requirement already satisfied: spacy-loggers<2.0.0,>=1.0.0 in /Users/ameek/anaconda3/envs/ProjectProposal/lib/python3.8/site-packages (from spacy>=3.0.6->fastcoref) (1.0.5)\r\n",
      "Requirement already satisfied: murmurhash<1.1.0,>=0.28.0 in /Users/ameek/anaconda3/envs/ProjectProposal/lib/python3.8/site-packages (from spacy>=3.0.6->fastcoref) (1.0.10)\r\n",
      "Requirement already satisfied: cymem<2.1.0,>=2.0.2 in /Users/ameek/anaconda3/envs/ProjectProposal/lib/python3.8/site-packages (from spacy>=3.0.6->fastcoref) (2.0.8)\r\n",
      "Requirement already satisfied: preshed<3.1.0,>=3.0.2 in /Users/ameek/anaconda3/envs/ProjectProposal/lib/python3.8/site-packages (from spacy>=3.0.6->fastcoref) (3.0.9)\r\n",
      "Requirement already satisfied: thinc<8.2.0,>=8.1.8 in /Users/ameek/anaconda3/envs/ProjectProposal/lib/python3.8/site-packages (from spacy>=3.0.6->fastcoref) (8.1.12)\r\n",
      "Requirement already satisfied: wasabi<1.2.0,>=0.9.1 in /Users/ameek/anaconda3/envs/ProjectProposal/lib/python3.8/site-packages (from spacy>=3.0.6->fastcoref) (0.10.1)\r\n",
      "Requirement already satisfied: srsly<3.0.0,>=2.4.3 in /Users/ameek/anaconda3/envs/ProjectProposal/lib/python3.8/site-packages (from spacy>=3.0.6->fastcoref) (2.4.8)\r\n",
      "Requirement already satisfied: catalogue<2.1.0,>=2.0.6 in /Users/ameek/anaconda3/envs/ProjectProposal/lib/python3.8/site-packages (from spacy>=3.0.6->fastcoref) (2.0.10)\r\n",
      "Requirement already satisfied: typer<0.10.0,>=0.3.0 in /Users/ameek/anaconda3/envs/ProjectProposal/lib/python3.8/site-packages (from spacy>=3.0.6->fastcoref) (0.7.0)\r\n",
      "Requirement already satisfied: pathy>=0.10.0 in /Users/ameek/anaconda3/envs/ProjectProposal/lib/python3.8/site-packages (from spacy>=3.0.6->fastcoref) (0.10.3)\r\n",
      "Requirement already satisfied: smart-open<7.0.0,>=5.2.1 in /Users/ameek/anaconda3/envs/ProjectProposal/lib/python3.8/site-packages (from spacy>=3.0.6->fastcoref) (6.4.0)\r\n",
      "Requirement already satisfied: pydantic!=1.8,!=1.8.1,<3.0.0,>=1.7.4 in /Users/ameek/anaconda3/envs/ProjectProposal/lib/python3.8/site-packages (from spacy>=3.0.6->fastcoref) (1.10.13)\r\n",
      "Requirement already satisfied: jinja2 in /Users/ameek/anaconda3/envs/ProjectProposal/lib/python3.8/site-packages (from spacy>=3.0.6->fastcoref) (3.1.2)\r\n",
      "Requirement already satisfied: setuptools in /Users/ameek/anaconda3/envs/ProjectProposal/lib/python3.8/site-packages (from spacy>=3.0.6->fastcoref) (68.0.0)\r\n",
      "Requirement already satisfied: langcodes<4.0.0,>=3.2.0 in /Users/ameek/anaconda3/envs/ProjectProposal/lib/python3.8/site-packages (from spacy>=3.0.6->fastcoref) (3.3.0)\r\n",
      "Requirement already satisfied: filelock in /Users/ameek/anaconda3/envs/ProjectProposal/lib/python3.8/site-packages (from torch>=1.10.0->fastcoref) (3.12.4)\r\n",
      "Requirement already satisfied: typing-extensions in /Users/ameek/anaconda3/envs/ProjectProposal/lib/python3.8/site-packages (from torch>=1.10.0->fastcoref) (4.7.1)\r\n",
      "Requirement already satisfied: sympy in /Users/ameek/anaconda3/envs/ProjectProposal/lib/python3.8/site-packages (from torch>=1.10.0->fastcoref) (1.11.1)\r\n",
      "Requirement already satisfied: networkx in /Users/ameek/anaconda3/envs/ProjectProposal/lib/python3.8/site-packages (from torch>=1.10.0->fastcoref) (3.1)\r\n",
      "Requirement already satisfied: regex!=2019.12.17 in /Users/ameek/anaconda3/envs/ProjectProposal/lib/python3.8/site-packages (from transformers>=4.11.3->fastcoref) (2023.10.3)\r\n",
      "Requirement already satisfied: tokenizers!=0.11.3,<0.14,>=0.11.1 in /Users/ameek/anaconda3/envs/ProjectProposal/lib/python3.8/site-packages (from transformers>=4.11.3->fastcoref) (0.13.3)\r\n",
      "Requirement already satisfied: attrs>=17.3.0 in /Users/ameek/anaconda3/envs/ProjectProposal/lib/python3.8/site-packages (from aiohttp->datasets>=2.5.2->fastcoref) (23.1.0)\r\n",
      "Requirement already satisfied: charset-normalizer<4.0,>=2.0 in /Users/ameek/anaconda3/envs/ProjectProposal/lib/python3.8/site-packages (from aiohttp->datasets>=2.5.2->fastcoref) (3.3.1)\r\n",
      "Requirement already satisfied: multidict<7.0,>=4.5 in /Users/ameek/anaconda3/envs/ProjectProposal/lib/python3.8/site-packages (from aiohttp->datasets>=2.5.2->fastcoref) (6.0.4)\r\n",
      "Requirement already satisfied: async-timeout<5.0,>=4.0.0a3 in /Users/ameek/anaconda3/envs/ProjectProposal/lib/python3.8/site-packages (from aiohttp->datasets>=2.5.2->fastcoref) (4.0.3)\r\n",
      "Requirement already satisfied: yarl<2.0,>=1.0 in /Users/ameek/anaconda3/envs/ProjectProposal/lib/python3.8/site-packages (from aiohttp->datasets>=2.5.2->fastcoref) (1.9.2)\r\n",
      "Requirement already satisfied: frozenlist>=1.1.1 in /Users/ameek/anaconda3/envs/ProjectProposal/lib/python3.8/site-packages (from aiohttp->datasets>=2.5.2->fastcoref) (1.4.0)\r\n",
      "Requirement already satisfied: aiosignal>=1.1.2 in /Users/ameek/anaconda3/envs/ProjectProposal/lib/python3.8/site-packages (from aiohttp->datasets>=2.5.2->fastcoref) (1.3.1)\r\n",
      "Requirement already satisfied: idna<4,>=2.5 in /Users/ameek/anaconda3/envs/ProjectProposal/lib/python3.8/site-packages (from requests>=2.19.0->datasets>=2.5.2->fastcoref) (3.4)\r\n",
      "Requirement already satisfied: urllib3<3,>=1.21.1 in /Users/ameek/anaconda3/envs/ProjectProposal/lib/python3.8/site-packages (from requests>=2.19.0->datasets>=2.5.2->fastcoref) (1.26.16)\r\n",
      "Requirement already satisfied: certifi>=2017.4.17 in /Users/ameek/anaconda3/envs/ProjectProposal/lib/python3.8/site-packages (from requests>=2.19.0->datasets>=2.5.2->fastcoref) (2023.7.22)\r\n",
      "Requirement already satisfied: blis<0.8.0,>=0.7.8 in /Users/ameek/anaconda3/envs/ProjectProposal/lib/python3.8/site-packages (from thinc<8.2.0,>=8.1.8->spacy>=3.0.6->fastcoref) (0.7.11)\r\n",
      "Requirement already satisfied: confection<1.0.0,>=0.0.1 in /Users/ameek/anaconda3/envs/ProjectProposal/lib/python3.8/site-packages (from thinc<8.2.0,>=8.1.8->spacy>=3.0.6->fastcoref) (0.1.3)\r\n",
      "Requirement already satisfied: click<9.0.0,>=7.1.1 in /Users/ameek/anaconda3/envs/ProjectProposal/lib/python3.8/site-packages (from typer<0.10.0,>=0.3.0->spacy>=3.0.6->fastcoref) (8.1.7)\r\n",
      "Requirement already satisfied: MarkupSafe>=2.0 in /Users/ameek/anaconda3/envs/ProjectProposal/lib/python3.8/site-packages (from jinja2->spacy>=3.0.6->fastcoref) (2.1.1)\r\n",
      "Requirement already satisfied: python-dateutil>=2.8.2 in /Users/ameek/anaconda3/envs/ProjectProposal/lib/python3.8/site-packages (from pandas->datasets>=2.5.2->fastcoref) (2.8.2)\r\n",
      "Requirement already satisfied: pytz>=2020.1 in /Users/ameek/anaconda3/envs/ProjectProposal/lib/python3.8/site-packages (from pandas->datasets>=2.5.2->fastcoref) (2023.3.post1)\r\n",
      "Requirement already satisfied: tzdata>=2022.1 in /Users/ameek/anaconda3/envs/ProjectProposal/lib/python3.8/site-packages (from pandas->datasets>=2.5.2->fastcoref) (2023.3)\r\n",
      "Requirement already satisfied: mpmath>=0.19 in /Users/ameek/anaconda3/envs/ProjectProposal/lib/python3.8/site-packages (from sympy->torch>=1.10.0->fastcoref) (1.3.0)\r\n",
      "Requirement already satisfied: six>=1.5 in /Users/ameek/anaconda3/envs/ProjectProposal/lib/python3.8/site-packages (from python-dateutil>=2.8.2->pandas->datasets>=2.5.2->fastcoref) (1.16.0)\r\n"
     ]
    }
   ],
   "source": [
    "!pip install fastcoref"
   ],
   "metadata": {
    "collapsed": false,
    "ExecuteTime": {
     "end_time": "2023-10-30T15:35:30.795725Z",
     "start_time": "2023-10-30T15:35:27.892198Z"
    }
   },
   "id": "53a0b18f4510006b"
  },
  {
   "cell_type": "code",
   "execution_count": 17,
   "outputs": [],
   "source": [
    "import torch"
   ],
   "metadata": {
    "collapsed": false,
    "ExecuteTime": {
     "end_time": "2023-10-30T15:35:30.799487Z",
     "start_time": "2023-10-30T15:35:30.797299Z"
    }
   },
   "id": "b038e7403d136218"
  },
  {
   "cell_type": "code",
   "execution_count": 18,
   "outputs": [
    {
     "name": "stdout",
     "output_type": "stream",
     "text": [
      "tensor([1.], device='mps:0')\n"
     ]
    }
   ],
   "source": [
    "# Check Metal Performance Shaders (MPS) backend for GPU training acceleration.\n",
    "if torch.backends.mps.is_available():\n",
    "    mps_device = torch.device(\"mps\")\n",
    "    x = torch.ones(1, device=mps_device)\n",
    "    print (x)\n",
    "else:\n",
    "    print (\"MPS device not found.\")"
   ],
   "metadata": {
    "collapsed": false,
    "ExecuteTime": {
     "end_time": "2023-10-30T15:35:30.948821Z",
     "start_time": "2023-10-30T15:35:30.799901Z"
    }
   },
   "id": "d1d8304cf8207cc1"
  },
  {
   "cell_type": "code",
   "execution_count": 19,
   "outputs": [
    {
     "name": "stderr",
     "output_type": "stream",
     "text": [
      "10/30/2023 15:35:35 - INFO - \t missing_keys: []\n",
      "10/30/2023 15:35:35 - INFO - \t unexpected_keys: []\n",
      "10/30/2023 15:35:35 - INFO - \t mismatched_keys: []\n",
      "10/30/2023 15:35:35 - INFO - \t error_msgs: []\n",
      "10/30/2023 15:35:35 - INFO - \t Model Parameters: 90.5M, Transformer: 82.1M, Coref head: 8.4M\n",
      "10/30/2023 15:35:35 - INFO - \t Tokenize 1 inputs...\n"
     ]
    },
    {
     "name": "stdout",
     "output_type": "stream",
     "text": [
      "huggingface/tokenizers: The current process just got forked, after parallelism has already been used. Disabling parallelism to avoid deadlocks...\n",
      "To disable this warning, you can either:\n",
      "\t- Avoid using `tokenizers` before the fork if possible\n",
      "\t- Explicitly set the environment variable TOKENIZERS_PARALLELISM=(true | false)\n"
     ]
    },
    {
     "data": {
      "text/plain": "Map:   0%|          | 0/1 [00:00<?, ? examples/s]",
      "application/vnd.jupyter.widget-view+json": {
       "version_major": 2,
       "version_minor": 0,
       "model_id": "5c37c1f5afb04fd68d6b6af7ac47dcbe"
      }
     },
     "metadata": {},
     "output_type": "display_data"
    },
    {
     "name": "stderr",
     "output_type": "stream",
     "text": [
      "10/30/2023 15:35:35 - INFO - \t ***** Running Inference on 1 texts *****\n"
     ]
    },
    {
     "data": {
      "text/plain": "Inference:   0%|          | 0/1 [00:00<?, ?it/s]",
      "application/vnd.jupyter.widget-view+json": {
       "version_major": 2,
       "version_minor": 0,
       "model_id": "9024135935514f7f89de771cc8dea62c"
      }
     },
     "metadata": {},
     "output_type": "display_data"
    },
    {
     "name": "stdout",
     "output_type": "stream",
     "text": [
      "[['We', 'our'], ['our coref package', 'This package']]\n"
     ]
    },
    {
     "name": "stderr",
     "output_type": "stream",
     "text": [
      "/Users/ameek/anaconda3/envs/ProjectProposal/lib/python3.8/site-packages/fastcoref/coref_models/modeling_fcoref.py:91: UserWarning: MPS: no support for int64 for sum_out_mps, downcasting to a smaller data type (int32/float32). Native support for int64 has been added in macOS 13.3. (Triggered internally at /Users/runner/work/_temp/anaconda/conda-bld/pytorch_1695391828857/work/aten/src/ATen/native/mps/operations/ReduceOps.mm:155.)\n",
      "  actual_seq_lengths = torch.sum(attention_mask, dim=-1)  # [batch_size]\n",
      "/Users/ameek/anaconda3/envs/ProjectProposal/lib/python3.8/site-packages/fastcoref/coref_models/modeling_fcoref.py:103: UserWarning: MPS: no support for int64 for sort_stable_out, downcasting to a smaller data type (int32/float32). Native support for int64 has been added in macOS 13.3. (Triggered internally at /Users/runner/work/_temp/anaconda/conda-bld/pytorch_1695391828857/work/aten/src/ATen/native/mps/operations/Sort.mm:30.)\n",
      "  sorted_topk_1d_indices, _ = torch.sort(topk_1d_indices, dim=-1)  # [batch_size, max_k]\n"
     ]
    },
    {
     "data": {
      "text/plain": "18.852913"
     },
     "execution_count": 19,
     "metadata": {},
     "output_type": "execute_result"
    }
   ],
   "source": [
    "from fastcoref import FCoref\n",
    "\n",
    "model = FCoref(device='mps')\n",
    "\n",
    "preds = model.predict(\n",
    "   texts=['We are so happy to see you using our coref package. This package is very fast!']\n",
    ")\n",
    "\n",
    "preds[0].get_clusters(as_strings=False)\n",
    "\n",
    "\n",
    "print(preds[0].get_clusters())\n",
    "\n",
    "\n",
    "preds[0].get_logit(\n",
    "   span_i=(33, 50), span_j=(52, 64)\n",
    ")\n"
   ],
   "metadata": {
    "collapsed": false,
    "ExecuteTime": {
     "end_time": "2023-10-30T15:35:35.668856Z",
     "start_time": "2023-10-30T15:35:30.948278Z"
    }
   },
   "id": "afda5c52bc99f688"
  },
  {
   "cell_type": "code",
   "execution_count": 20,
   "outputs": [
    {
     "name": "stderr",
     "output_type": "stream",
     "text": [
      "10/30/2023 15:35:37 - INFO - \t missing_keys: []\n",
      "10/30/2023 15:35:37 - INFO - \t unexpected_keys: []\n",
      "10/30/2023 15:35:37 - INFO - \t mismatched_keys: []\n",
      "10/30/2023 15:35:37 - INFO - \t error_msgs: []\n",
      "10/30/2023 15:35:37 - INFO - \t Model Parameters: 90.5M, Transformer: 82.1M, Coref head: 8.4M\n",
      "10/30/2023 15:35:37 - INFO - \t Tokenize 1 inputs...\n"
     ]
    },
    {
     "data": {
      "text/plain": "Map:   0%|          | 0/1 [00:00<?, ? examples/s]",
      "application/vnd.jupyter.widget-view+json": {
       "version_major": 2,
       "version_minor": 0,
       "model_id": "14fecbc0a6b14360b62e535c2e4c93b4"
      }
     },
     "metadata": {},
     "output_type": "display_data"
    },
    {
     "name": "stderr",
     "output_type": "stream",
     "text": [
      "10/30/2023 15:35:37 - INFO - \t ***** Running Inference on 1 texts *****\n"
     ]
    },
    {
     "data": {
      "text/plain": "Inference:   0%|          | 0/1 [00:00<?, ?it/s]",
      "application/vnd.jupyter.widget-view+json": {
       "version_major": 2,
       "version_minor": 0,
       "model_id": "bff5974d2bd04bed96da395e8daaab1b"
      }
     },
     "metadata": {},
     "output_type": "display_data"
    },
    {
     "name": "stdout",
     "output_type": "stream",
     "text": [
      "[['Sadiq Khan', 'his', \"Sadiq Khan's\", 'London mayor', \"Khan's\", \"the capital's mayor Sadiq Khan\", 'Mr Khan', \"London mayor Sadiq Khan's\", 'Mr Khan', \"Sir Keir Starmer's mayor\", 'Sadiq Khan', \"Mr Khan's\", 'Mr Khan', 'I', 'I', 'Mr Khan', 'Sadiq', 'He', 'he', 'his', 'he', 'your mayor', 'the Labour mayor', 'his', \"Mr Khan's\", \"the mayor's\", 'his', 'Mr Khan', 'Mr Khan', 'the mayor', \"the mayor's\"], ['Rishi Sunak', 'Rishi Sunak', 'Rishi Sunak', 'Rishi Sunak (pictured)'], ['Keir Starmer', 'Starmer', 'Keir Starmer', 'him', 'he', 'Sir Keir', 'He', 'the Labour leader', 'Keir Starmer (left)', 'him', 'the Labour leader', \"Sir Keir Starmer's\", 'Starmer', 'Sir Keir', 'the Labour leader', 'Keir', 'he', 'Sir Keir', 'Sir Keir'], [\"Sadiq Khan's Ulez\", 'ULEZ', 'ULEZ'], ['London', \"London's\", \"the capital's\", 'London', \"London's\", 'London', 'London', \"London's\", 'London', \"London's\", 'London'], ['the levy', 'the Ulez levy', 'the £12.50 daily levy for older, more polluting vehicles', 'it', 'the £12.50 daily levy for older, more polluting vehicles', 'it', 'this Ulez tax on hard-working people'], ['High Court', 'The High Court', 'High Court', 'the High Court', 'High Court'], [\"London's clean air zone\", 'Ulez', 'the zone', 'The zone', \"London mayor Sadiq Khan's (right) Ulez\", 'the expanded Ulez zone', 'the Ulez', 'Ulez', 'Ulez', 'Ulez', 'Ulez', 'Ulez', 'Ulez', 'the scheme', \"London's clean air zone\", 'Ulez'], ['yesterday', \"yesterday's\", \"yesterday's\"], ['last night', 'last night', 'last night', 'last night'], ['Labour', 'Labour', 'Labour', 'Labour', 'Labour', 'the Labour party', 'Labour', \"The party's\", 'Labour', 'Labour'], [\"the expansion of London's clean air zone\", \"the expansion of London mayor Sadiq Khan's (right) Ulez\", 'expansion', 'the Ulez extension', 'the policy', 'expand', 'it', 'the Ulez expansion', 'his Ulez expansion', 'It', 'this', 'this', 'expand', 'expand', \"the expansion of London's clean air zone\", 'the change', 'Ulez expansion'], ['August 29', '29 August'], ['extend', 'It'], ['ordinary people', 'they', 'their', 'their'], ['pay', 'that'], [\"yesterday's court ruling\", \"yesterday's ruling\", 'This unambiguous decision today in the High Court', 'the ruling', 'the court ruling', \"the ruling on the expansion of London's clean air zone\", 'the judgment'], ['outer London', 'outer London'], ['the daily charge', 'the charge'], ['Ulez', 'their'], ['We', 'We'], ['end', 'that'], ['Shadow Chancellor Rachel Reeves', 'Rachel Reeves', 'Mr Justice Swift', 'I', 'He'], [\"The party's health spokesman, Wes Streeting,\", 'I'], ['devolution', 'that'], [\"London's ultra-low emission zone\", 'the Ulez area', 'the Ulez area'], ['Auto Trader, an online marketplace,', 'Auto Trader', \"The company's\"], ['Britain', 'the UK', 'England', 'England'], ['raising', 'that', 'that'], ['people', 'they'], ['Transport Secretary Mark Harper', 'He'], ['The expansion of Ulez to the whole of Greater London', 'it'], ['the London boroughs of Bexley, Bromley, Harrow and Hillingdon along with Surrey County Council', 'the five councils'], ['Chris Clarkson, the Tory MP for Heywood and Middleton in Greater Manchester', 'his'], ['drivers', 'them'], ['the RAC', 'the RAC'], [\"access to the mayor's £110million scheme which provides grants supporting the scrapping of non Ulez-compliant vehicles in London\", 'It'], ['our', 'MailOnline', 'We']]\n"
     ]
    }
   ],
   "source": [
    "from fastcoref import FCoref\n",
    "\n",
    "model = FCoref(device='mps')\n",
    "\n",
    "preds = model.predict(\n",
    "   texts=[articleText]\n",
    ")\n",
    "\n",
    "print(preds[0].get_clusters()) "
   ],
   "metadata": {
    "collapsed": false,
    "ExecuteTime": {
     "end_time": "2023-10-30T15:35:37.849906Z",
     "start_time": "2023-10-30T15:35:35.670186Z"
    }
   },
   "id": "eea537c22abe6e0d"
  },
  {
   "cell_type": "code",
   "execution_count": 21,
   "outputs": [
    {
     "name": "stderr",
     "output_type": "stream",
     "text": [
      "10/30/2023 15:35:43 - INFO - \t missing_keys: []\n",
      "10/30/2023 15:35:43 - INFO - \t unexpected_keys: []\n",
      "10/30/2023 15:35:43 - INFO - \t mismatched_keys: []\n",
      "10/30/2023 15:35:43 - INFO - \t error_msgs: []\n",
      "10/30/2023 15:35:43 - INFO - \t Model Parameters: 590.0M, Transformer: 434.6M, Coref head: 155.4M\n",
      "10/30/2023 15:35:43 - INFO - \t Tokenize 1 inputs...\n"
     ]
    },
    {
     "data": {
      "text/plain": "Map:   0%|          | 0/1 [00:00<?, ? examples/s]",
      "application/vnd.jupyter.widget-view+json": {
       "version_major": 2,
       "version_minor": 0,
       "model_id": "1caec15df3644bd39395db8d012649bf"
      }
     },
     "metadata": {},
     "output_type": "display_data"
    },
    {
     "name": "stderr",
     "output_type": "stream",
     "text": [
      "10/30/2023 15:35:43 - INFO - \t ***** Running Inference on 1 texts *****\n"
     ]
    },
    {
     "data": {
      "text/plain": "Inference:   0%|          | 0/1 [00:00<?, ?it/s]",
      "application/vnd.jupyter.widget-view+json": {
       "version_major": 2,
       "version_minor": 0,
       "model_id": "909ca662285843979d052139fa788ed2"
      }
     },
     "metadata": {},
     "output_type": "display_data"
    },
    {
     "name": "stdout",
     "output_type": "stream",
     "text": [
      "[['Sadiq Khan', 'his', \"Sadiq Khan's\", 'London mayor', \"Khan's\", \"the capital's mayor Sadiq Khan\", 'Mr Khan', \"London mayor Sadiq Khan's\", 'Mr Khan', \"Sir Keir Starmer's mayor\", 'Sadiq Khan', \"Mr Khan's\", 'Mr Khan', 'I', 'I', 'Sir Keir', 'the Labour leader', 'Mr Khan', 'Keir', 'he', 'Sadiq', 'He', 'he', 'his', 'he', 'Sir Keir', 'your mayor', 'Sir Keir', 'the Labour mayor', 'his', \"Mr Khan's\", \"the mayor's\", 'his', 'Mr Khan', 'Mr Khan', 'the mayor', \"the mayor's\"], ['Rishi Sunak', 'Rishi Sunak', 'Rishi Sunak', 'Rishi Sunak (pictured)'], ['Keir Starmer', 'Starmer', 'Keir Starmer', 'him', 'he', 'Sir Keir', 'He', 'the Labour leader', 'Keir Starmer (left)', 'him', 'the Labour leader', \"Sir Keir Starmer's\", 'Starmer'], ['Ulez', 'ULEZ', 'Ulez', 'Ulez', 'Ulez', 'ULEZ', 'Ulez', 'the Ulez', 'Ulez', 'Ulez', 'the policy', 'Ulez', 'Ulez', 'Ulez', 'Ulez', 'Ulez', 'Ulez', 'Ulez', 'the scheme', 'Ulez'], ['London', \"London's\", \"the capital's\", 'London', 'London', \"London's\", 'London', 'London', \"London's\", 'London', \"London's\", 'London'], ['the levy', 'the Ulez levy', 'the £12.50 daily levy for older, more polluting vehicles', 'it', 'the £12.50 daily levy for older, more polluting vehicles', 'it', 'this Ulez tax', '£12.50 daily charge', 'the daily charge', 'the charge'], ['High Court', 'The High Court', 'High Court', 'the High Court', 'High Court'], [\"London's clean air zone\", 'the zone', 'The zone', \"London's clean air zone\"], ['yesterday', \"yesterday's\", \"yesterday's\"], ['last night', 'last night', 'last night', 'last night'], ['Labour', 'Labour', 'Labour', 'Labour', 'Labour', 'their', 'We', 'the Labour party', 'We', 'Labour', \"The party's\", 'us'], [\"the expansion of London's clean air zone\", \"the expansion of London mayor Sadiq Khan's (right) Ulez\"], ['August 29', '29 August'], ['extend', 'It'], ['ordinary people', 'they', 'their', 'their'], ['pay', 'that'], ['some families and tradesmen who rely on their vehicles', 'their'], ['his hated low emission zone expansion plan', 'the expanded Ulez zone', 'the Ulez extension', 'expand', 'it', 'the Ulez expansion', \"the planned expansion of London's ultra-low emission zone\", 'his Ulez expansion', 'It', 'this', 'this', 'expand', 'expand', \"the expansion of London's clean air zone\", 'the change'], [\"yesterday's ruling\", 'This unambiguous decision today in the High Court', 'the ruling', 'the court ruling', \"the ruling on the expansion of London's clean air zone\", 'the judgment'], ['end', 'that'], ['Shadow Chancellor Rachel Reeves', 'Rachel Reeves'], ['answers', 'that'], ['Auto Trader, an online marketplace,', 'Auto Trader', \"The company's\"], ['raising', 'that', 'that'], ['people', 'they'], ['Transport Secretary Mark Harper', 'He'], ['The expansion of Ulez to the whole of Greater London', 'it'], ['Mr Justice Swift', 'I', 'He'], ['the Ulez area', 'the Ulez area'], ['the London boroughs of Bexley, Bromley, Harrow and Hillingdon along with Surrey County Council', 'the five councils'], ['England', 'England'], ['Chris Clarkson, the Tory MP for Heywood and Middleton in Greater Manchester,', 'his'], ['drivers', 'them'], ['the RAC', 'the RAC'], [\"access to the mayor's £110million scheme which provides grants supporting the scrapping of non Ulez-compliant vehicles in London\", 'It'], ['MailOnline', 'We']]\n"
     ]
    }
   ],
   "source": [
    "from fastcoref import LingMessCoref\n",
    "\n",
    "model = LingMessCoref(device='cpu')\n",
    "\n",
    "preds = model.predict(\n",
    "   texts=[articleText]\n",
    ")\n",
    "\n",
    "print(preds[0].get_clusters()) "
   ],
   "metadata": {
    "collapsed": false,
    "ExecuteTime": {
     "end_time": "2023-10-30T15:35:47.285307Z",
     "start_time": "2023-10-30T15:35:37.850265Z"
    }
   },
   "id": "94845f90532cce8"
  },
  {
   "cell_type": "code",
   "execution_count": 22,
   "outputs": [],
   "source": [
    "# look into spacy pipelines, spans, and "
   ],
   "metadata": {
    "collapsed": false,
    "ExecuteTime": {
     "end_time": "2023-10-30T15:35:47.288947Z",
     "start_time": "2023-10-30T15:35:47.284793Z"
    }
   },
   "id": "cf2327a071726c48"
  }
 ],
 "metadata": {
  "kernelspec": {
   "display_name": "Python 3",
   "language": "python",
   "name": "python3"
  },
  "language_info": {
   "codemirror_mode": {
    "name": "ipython",
    "version": 2
   },
   "file_extension": ".py",
   "mimetype": "text/x-python",
   "name": "python",
   "nbconvert_exporter": "python",
   "pygments_lexer": "ipython2",
   "version": "2.7.6"
  }
 },
 "nbformat": 4,
 "nbformat_minor": 5
}
